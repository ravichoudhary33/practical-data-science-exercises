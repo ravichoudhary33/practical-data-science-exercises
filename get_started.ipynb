{
 "cells": [
  {
   "cell_type": "markdown",
   "metadata": {},
   "source": [
    "# Getting started (20 pts)\n",
    "\n",
    "To get used to the submission of Jupyter notebooks, fill in the following function signatures according to their specifications. Upon finishing this section, submit your notebook to Autolab and you can view your grade. We are not looking for complicated solutions. "
   ]
  },
  {
   "cell_type": "code",
   "execution_count": 20,
   "metadata": {
    "collapsed": true
   },
   "outputs": [],
   "source": [
    "# rotate(l,n) takes a list l and an integer n, and returns a new list with the first n elements moved to the end. \n",
    "#\n",
    "# Example: \n",
    "#   rotate([1,2,3,4], 3) -> [4,1,2,3]\n",
    "\n",
    "def rotate_list(l, n):\n",
    "    return l[n:]+l[:n]\n",
    "    \n",
    "# reverse_dict(d) takes a dictionary d, and returns a new dictionary with the keys and values swapped.\n",
    "# Assume all values of the given dictionary are unique, i.e. don't worry about conflicting keys. \n",
    "#\n",
    "# Example: \n",
    "#   reverse_dict({\"apple\" : \"red\", \"banana\" : \"yellow\"}) -> {\"red\" : \"apple\", \"yellow\" : \"banana\"}\n",
    "def reverse_dict(d):\n",
    "    d_new = {}\n",
    "    for key in d:\n",
    "        value = d[key]\n",
    "        d_new[value] = key\n",
    "    return d_new"
   ]
  }
 ],
 "metadata": {
  "anaconda-cloud": {},
  "kernelspec": {
   "display_name": "Python 2",
   "language": "python",
   "name": "python2"
  },
  "language_info": {
   "codemirror_mode": {
    "name": "ipython",
    "version": 2
   },
   "file_extension": ".py",
   "mimetype": "text/x-python",
   "name": "python",
   "nbconvert_exporter": "python",
   "pygments_lexer": "ipython2",
   "version": "2.7.11"
  }
 },
 "nbformat": 4,
 "nbformat_minor": 0
}
