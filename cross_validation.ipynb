{
 "cells": [
  {
   "cell_type": "markdown",
   "metadata": {},
   "source": [
    "# Introduction (35pts)\n",
    "In this notebook, you will classify emails as either spam or not spam using support vector machines. The full dataset consists 80k labeled emails. The labels are 1 if they are ham (not spam), and -1 if they are spam. The lines of the emails have already been slightly processed, such that different words are space delimited, however little other processing has occurred. \n",
    "\n",
    "## Preliminary notes\n",
    "1. You can not use scikit-learn. \n",
    "2. For this notebook, each proceeding part depends on the previous since we are building up a moderately sized data science pipeline. Verify your previous parts before proceeding onto the next. \n",
    "3. Similar the linear regression notebook of the previous assignment, you will need to use the tfidf function from the natural language processing notebook. You can download your notebook as a module and import it. If you're in 388 or you find that your implementation is too slow, copy the reference solution (its only 10 lines). \n",
    "4. As we move into more advanced algorithms and techniques, there will be more introductions of randomness. This means that some of the example outputs in the notebook contain some randomness, and will probably not match your results exactly. Verify your code by checking your properties/invariants or feeding in static inputs for which you can calculate the output. \n",
    "5. When writing pickle files to be read into Autolab, **write files with the binary flag**\n",
    "5. There is another contest at the end of this notebook. "
   ]
  },
  {
   "cell_type": "code",
   "execution_count": 1,
   "metadata": {
    "collapsed": true
   },
   "outputs": [],
   "source": [
    "import numpy as np\n",
    "import scipy.sparse as sp\n",
    "from collections import Counter\n",
    "import scipy.optimize\n",
    "import cPickle as pickle"
   ]
  },
  {
   "cell_type": "code",
   "execution_count": 2,
   "metadata": {
    "collapsed": false
   },
   "outputs": [],
   "source": [
    "# AUTOLAB_IGNORE_START\n",
    "with open(\"X1.txt\") as f:\n",
    "    emails = f.readlines()\n",
    "labels = np.loadtxt(\"y1.txt\")\n",
    "# AUTOLAB_IGNORE_STOP"
   ]
  },
  {
   "cell_type": "code",
   "execution_count": 3,
   "metadata": {
    "collapsed": false
   },
   "outputs": [],
   "source": [
    "# AUTOLAB_IGNORE_START\n",
    "from natural_language_processing import tfidf\n",
    "features, all_words = tfidf(emails)\n",
    "# AUTOLAB_IGNORE_STOP"
   ]
  },
  {
   "cell_type": "markdown",
   "metadata": {},
   "source": [
    "## SVM classification (15pts)\n",
    "Recall the support vector machine (SVM) from slide 17 of linear classification. Since it is such a straightforward algorithm, you will implement it below. \n",
    "\n",
    "### Grading\n",
    "* 2pts - correct objective\n",
    "* 5pts - correct gradient\n",
    "* 8pts - correct prediction after training\n",
    "\n",
    "### Specifications\n",
    "1. If you do not use matrix operations, your code will be **very slow**. Every function in here can be implemented in 1 or 2 lines using matrix equations, and the only for loop you need is the training loop for gradient descent. **If your code is slow here, it will be extremely slow in the next section when doing parameter search**.\n",
    "2. You should train your SVM using gradient descent as described in the slides. Your objective value should also mimic that of the slides. \n",
    "3. Since this is a convex function, your gradient steps should always decrease your objective. A simple check when writing these optimization procedures is to print your objectives and verify that this is the case (or plot them with matplotlib).\n",
    "4. You can also use scipy.optimize.check_grad to numerically verify the correctness of your gradients. \n",
    "5. For the unlikely boundary case where your hypothesis outputs 0, we will treat that as a positive prediction. \n",
    "6. Be careful of numpy.matrix objects which are constrained to always have dimension 2 (scipy operations will sometimes return this instead of an ndarray). "
   ]
  },
  {
   "cell_type": "code",
   "execution_count": 4,
   "metadata": {
    "collapsed": false,
    "scrolled": false
   },
   "outputs": [],
   "source": [
    "class SVM:\n",
    "    def __init__(self, X, y, reg):\n",
    "        \"\"\" Initialize the SVM attributes and initialize the weights vector to the zero vector. \n",
    "            Attributes: \n",
    "                X (array_like) : training data intputs\n",
    "                y (vector) : 1D numpy array of training data outputs\n",
    "                reg (float) : regularizer parameter\n",
    "                theta : 1D numpy array of weights\n",
    "        \"\"\"\n",
    "        self.X = X\n",
    "        self.y = y\n",
    "        self.reg = reg\n",
    "        self.theta = np.zeros(X.shape[1])\n",
    "        \n",
    "    def Xy_from_sparse(self, X, y):\n",
    "        # using sp version of diags since it's sparse\n",
    "        ydiag = sp.diags(y)\n",
    "        Xy = ydiag.dot(sp.csr_matrix(X))\n",
    "        return Xy\n",
    "    \n",
    "    def objective(self, X, y):\n",
    "        \"\"\" Calculate the objective value of the SVM. When given the training data (self.X, self.y), this is the \n",
    "            actual objective being optimized. \n",
    "            Args:\n",
    "                X (array_like) : array of examples, where each row is an example\n",
    "                y (array_like) : array of outputs for the training examples\n",
    "            Output:\n",
    "                (float) : objective value of the SVM when calculated on X,y\n",
    "        \"\"\"\n",
    "        self.theta = 1.0*self.theta\n",
    "        Xy = self.Xy_from_sparse(X,y)\n",
    "#         Xy = X*y[:,None]\n",
    "#         Xy = np.array(Xy)\n",
    "        objective = sum(np.maximum(1.0 - (Xy.dot(self.theta)),0.0)) + 1.0*self.reg/2.0*sum(self.theta**2)\n",
    "        return objective\n",
    "        \n",
    "    def gradient(self):\n",
    "        \"\"\" Calculate the gradient of the objective value on the training examples. \n",
    "            Output:\n",
    "                (vector) : 1D numpy array containing the gradient\n",
    "        \"\"\"\n",
    "        self.theta = 1.0*self.theta\n",
    "        Xy = self.Xy_from_sparse(self.X,self.y)\n",
    "        \n",
    "#         Xy = self.X*self.y[:,None]\n",
    "#         Xy = np.array(Xy)\n",
    "        gradient = -1.0*Xy.T.dot(Xy.dot(self.theta) <= 1) + self.reg*self.theta\n",
    "        return gradient\n",
    "    \n",
    "    def train(self, niters=100, learning_rate=1, verbose=False):\n",
    "        \"\"\" Train the support vector machine with the given parameters. \n",
    "            Args: \n",
    "                niters (int) : the number of iterations of gradient descent to run\n",
    "                learning_rate (float) : the learning rate (or step size) to use when training\n",
    "                verbose (bool) : an optional parameter that you can use to print useful information (like objective value)\n",
    "        \"\"\"\n",
    "        self.theta = 1.0*self.theta\n",
    "        learning_rate = float(learning_rate)\n",
    "        for i in range(niters):\n",
    "            self.theta -= 1.0*learning_rate*self.gradient()\n",
    "            if verbose:\n",
    "                print self.objective(self.X,self.y)\n",
    "            \n",
    "    \n",
    "    def predict(self, X):\n",
    "        \"\"\" Predict the class of each label in X. \n",
    "            Args: \n",
    "                X (array_like) : array of examples, where each row is an example\n",
    "            Output:\n",
    "                (vector) : 1D numpy array containing predicted labels\n",
    "        \"\"\"\n",
    "        pred = X.dot(self.theta)\n",
    "        \n",
    "        def roundPred(x):\n",
    "            if x>=0:\n",
    "                return 1\n",
    "            else:\n",
    "                return -1\n",
    "            \n",
    "        froundPred = np.vectorize(roundPred)\n",
    "        \n",
    "        predResults = froundPred(pred)\n",
    "\n",
    "        return predResults\n",
    "    \n"
   ]
  },
  {
   "cell_type": "markdown",
   "metadata": {},
   "source": [
    "Some useful tricks for debugging: \n",
    "1. Use very simple inputs (i.e. small vectors of ones) and compare the output of each function with a hand calculation. \n",
    "2. One way to guarantee your gradient is correct is to verify it numerically using a derivative approximation. You can read more about numerical differentiation methods here (https://en.wikipedia.org/wiki/Finite_difference) but for your purposes, you can use scipy.optimize.check_grad to do the numerical checking for you. "
   ]
  },
  {
   "cell_type": "code",
   "execution_count": 5,
   "metadata": {
    "collapsed": false
   },
   "outputs": [
    {
     "name": "stdout",
     "output_type": "stream",
     "text": [
      "obj 31.0003\n",
      "grad [ 9.0002  5.0001  6.0001]\n",
      "check_grad 1.94901167746e-07\n",
      "\n",
      "81.00640023\n",
      "21.00635004\n",
      "16.0016996001\n",
      "52.0103485402\n",
      "21.0000976106\n",
      "10.9967977811\n",
      "21.0182958814\n",
      "49.0042460825\n",
      "18.9935973629\n",
      "9.99979726339\n",
      "15.9895498538\n",
      "7.9975487341\n",
      "13.9911007048\n",
      "32.0399272212\n",
      "45.0479624724\n",
      "20.0034929614\n",
      "16.9875512597\n",
      "17.9981438333\n",
      "13.9833057495\n",
      "15.9936966443\n",
      "10.9801618476\n",
      "19.0528858129\n",
      "50.9967026271\n",
      "18.9769653588\n",
      "8.97407013547\n",
      "24.0684626657\n",
      "47.9912063897\n",
      "16.9714750252\n",
      "8.98995562183\n",
      "13.9810162527\n",
      "29.0859254615\n",
      "44.9858138505\n",
      "14.9657899351\n",
      "9.98916085339\n",
      "11.9629517109\n",
      "7.98731813426\n",
      "13.1057334467\n",
      "74.1079522807\n",
      "22.9671511036\n",
      "12.9634578831\n",
      "17.9851120383\n",
      "9.96042078324\n",
      "21.1044030825\n",
      "47.9870318122\n",
      "17.957727956\n",
      "9.98117214601\n",
      "14.9539930389\n",
      "7.97903274903\n",
      "12.9747074044\n",
      "32.1263796231\n",
      "52.1580307694\n",
      "19.984368262\n",
      "15.9521049715\n",
      "17.9791284051\n",
      "12.9481719655\n",
      "15.9747904232\n",
      "9.94534046308\n",
      "19.1388660788\n",
      "49.9810152453\n",
      "17.942650803\n",
      "7.97205657363\n",
      "15.9700339857\n",
      "24.1588927911\n",
      "48.2008903971\n",
      "19.978288395\n",
      "18.9395653396\n",
      "17.9727516457\n",
      "15.9347368228\n",
      "15.96811695\n",
      "12.9310101077\n",
      "13.9643839273\n",
      "9.92838477386\n",
      "17.1779742648\n",
      "56.2479229327\n",
      "16.9688676073\n",
      "20.9284814977\n",
      "14.9640347222\n",
      "17.9233572073\n",
      "12.9601037092\n",
      "14.919334737\n",
      "10.9570741876\n",
      "11.9164136663\n",
      "10.2043346047\n",
      "64.2872130842\n",
      "15.917948483\n",
      "20.9605679232\n",
      "12.9137276088\n",
      "20.2217994016\n",
      "47.9672865902\n",
      "20.909943853\n",
      "12.954343007\n",
      "17.9050260724\n",
      "10.9510166741\n",
      "14.9012099895\n",
      "8.94859163066\n",
      "11.9519641512\n",
      "37.2451184434\n",
      "42.9565545661\n",
      "12.8963608765\n",
      "9.94761863148\n"
     ]
    },
    {
     "data": {
      "text/plain": [
       "array([-1, -1, -1,  1])"
      ]
     },
     "execution_count": 5,
     "metadata": {},
     "output_type": "execute_result"
    }
   ],
   "source": [
    "# AUTOLAB_IGNORE_START\n",
    "# Verify the correctness of your code on small examples\n",
    "# y0 = np.random.randint(0,2,5)*2-1\n",
    "# X0 = np.random.random((5,10))\n",
    "# t0 = np.random.random(10)\n",
    "\n",
    "np.random.seed(100)\n",
    "y0 = np.random.randint(0,2,4)*2-1\n",
    "X0 = np.random.randint(10,size=(4,3))\n",
    "t0 = np.random.randint(1,3, size=3)\n",
    "\n",
    "# print y0,X0,t0\n",
    "svm0 = SVM(X0,y0, 1.0e-4)\n",
    "svm0.theta = t0\n",
    "\n",
    "\n",
    "obj = svm0.objective(X0,y0)\n",
    "grad = svm0.gradient()\n",
    "\n",
    "print \"obj\",obj\n",
    "print \"grad\",grad\n",
    "        \n",
    "def Xy_from_sparse(X, y):\n",
    "    # using sp version of diags since it's sparse\n",
    "    ydiag = sp.diags(y)\n",
    "    Xy = ydiag.dot(sp.csr_matrix(X))\n",
    "    return Xy\n",
    "def obj(theta):\n",
    "    theta = 1.0*theta\n",
    "    Xy = X0*y0[:,None]\n",
    "    Xy = Xy_from_sparse(X0,y0)\n",
    "    objective = sum(np.maximum(1.0 - (Xy.dot(theta)),0.0)) + 1.0*1.0e-4/2.0*sum(theta**2)\n",
    "    return objective\n",
    "\n",
    "def grad(theta):\n",
    "    theta = 1.0*theta\n",
    "\n",
    "    Xy = X0*y0[:,None]\n",
    "    Xy = Xy_from_sparse(X0,y0)\n",
    "    gradient = -1.0*Xy.T.dot(Xy.dot(theta) <= 1) + 1.0*1.0e-4*theta\n",
    "    return gradient\n",
    "\n",
    "print \"check_grad\",scipy.optimize.check_grad(obj, grad, t0)\n",
    "\n",
    "print \"\"\n",
    "# svm0.train(niters=100, learning_rate=.01, verbose=True)\n",
    "\n",
    "svm0.train(niters=100, learning_rate=1, verbose=True)\n",
    "svm0.predict(X0)\n",
    "# AUTOLAB_IGNORE_STOP"
   ]
  },
  {
   "cell_type": "markdown",
   "metadata": {},
   "source": [
    "On the above small example, our solution gets a gradient error on the order of 1e-08 from scipy.optimize.check_grad. Your objective values should be monotonically decreasing. \n",
    "\n",
    "Once that works, try training your SVM on the tfidf features."
   ]
  },
  {
   "cell_type": "code",
   "execution_count": 6,
   "metadata": {
    "collapsed": false,
    "scrolled": true
   },
   "outputs": [],
   "source": [
    "# AUTOLAB_IGNORE_START\n",
    "# svm = SVM(...)\n",
    "# svm.train()\n",
    "# yp = svm.predict(...)\n",
    "\n",
    "# AUTOLAB_IGNORE_STOP"
   ]
  },
  {
   "cell_type": "markdown",
   "metadata": {},
   "source": [
    "Our implementation gets the following results:\n",
    "* For 100 iterations, regularization 1e-4, and learning rate 1.0, our solution is able to achieve perfect training classification accuracy (100% accuracy on the training data)\n",
    "* Training for 100 iterations takes about 2.13 seconds (measured using %timeit). "
   ]
  },
  {
   "cell_type": "markdown",
   "metadata": {},
   "source": [
    "## Model Selection: Cross validation and Parameter Grid Search (15pts)\n",
    "As you may have noticed, there are parameters in the SVM learning algorithm that we chose somewhat arbitrarily: the regularization parameter and the learning rate (also technically the number of iterations for the learning algorithm, but you'll only consider the first two for simplicity). \n",
    "\n",
    "We were also able to achieve perfect training accuracy with these random parameters. This should make you suspicious: we have an enormous amount of features so it would be extremely easy to overfit to the data, so our model may not generalize well. \n",
    "\n",
    "You will now evaluate and select parameters using cross validation and grid search.\n",
    "\n",
    "### Grading\n",
    "* 2pts correct blocks and test_block attributes\n",
    "* 8pts correct cross validation \n",
    "* 3pts correct grid search\n",
    "* 2pts correct test"
   ]
  },
  {
   "cell_type": "code",
   "execution_count": 53,
   "metadata": {
    "collapsed": false
   },
   "outputs": [
    {
     "name": "stdout",
     "output_type": "stream",
     "text": [
      "2\n",
      "[5, 6]\n",
      "[[1, 3], [2, 4]]\n"
     ]
    }
   ],
   "source": [
    "import math\n",
    "\n",
    "class ModelSelector:\n",
    "    \"\"\" A class that performs model selection. \n",
    "        Attributes:\n",
    "            blocks (list) : list of lists of indices of each block used for k-fold cross validation, e.g. blocks[i] \n",
    "            gives the indices of the examples in the ith block \n",
    "            test_block (list) : list of indices of the test block that used only for reporting results\n",
    "            \n",
    "    \"\"\"\n",
    "    def __init__(self, X, y, P, k, niters):\n",
    "        \"\"\" Initialize the model selection with data and split into train/valid/test sets. Split the permutation into blocks \n",
    "            and save the block indices as an attribute to the model. \n",
    "            Args:\n",
    "                X (array_like) : array of features for the datapoints\n",
    "                y (vector) : 1D numpy array containing the output labels for the datapoints\n",
    "                P (vector) : 1D numpy array containing a random permutation of the datapoints\n",
    "                k (int) : number of folds\n",
    "                niters (int) : number of iterations to train for\n",
    "        \"\"\"\n",
    "        # save vars to obj\n",
    "        self.X = X\n",
    "        self.y = y\n",
    "        self.P = P\n",
    "        self.k = k\n",
    "        self.niters = niters\n",
    "        \n",
    "        n = float(len(P))\n",
    "        self.blocksize = int(math.ceil(n/(k+1.0)))\n",
    "        \n",
    "        # assign test block\n",
    "        self.test_block = list(P[-self.blocksize:])\n",
    "        \n",
    "        # remove test block from X\n",
    "        self.Ptv = P[:-self.blocksize]\n",
    "        \n",
    "        self.blocks = []\n",
    "        \n",
    "        begin = 0\n",
    "        end = 0\n",
    "        for i in range(k):\n",
    "            end = begin + self.blocksize\n",
    "            \n",
    "            kblock = self.Ptv[begin:end]\n",
    "            self.blocks.append(kblock)\n",
    "            \n",
    "            begin = end  \n",
    "        \n",
    "        \n",
    "\n",
    "    def cross_validation(self, lr, reg):\n",
    "        \"\"\" Given the permutation P in the class, evaluate the SVM using k-fold cross validation for the given parameters \n",
    "            over the permutation\n",
    "            Args: \n",
    "                lr (float) : learning rate\n",
    "                reg (float) : regularizer parameter\n",
    "            Output: \n",
    "                (float) : the cross validated error rate\n",
    "        \"\"\"\n",
    "        # classification error rate\n",
    "        def getErrors(diff):\n",
    "            if int(diff) == 0:\n",
    "                return 0.0\n",
    "            else:\n",
    "                return 1.0\n",
    "        vgetErrors = np.vectorize(getErrors)\n",
    "            \n",
    "        errors = 0.0\n",
    "        for holdout in self.blocks:\n",
    "            if holdout:\n",
    "                trainindex = list(set(self.Ptv) - set(holdout))\n",
    "                if trainindex:\n",
    "                    svm0 = SVM(self.X[trainindex],self.y[trainindex], reg)\n",
    "                    svm0.train(niters=self.niters, learning_rate=lr, verbose=False)\n",
    "\n",
    "                    # pred using heldout\n",
    "                    pred = svm0.predict(self.X[holdout])\n",
    "\n",
    "                    truth = self.y[holdout]\n",
    "                    error_arr = vgetErrors(truth - pred)\n",
    "                    errors += sum(error_arr)\n",
    "\n",
    "        error_rate = 1.0*errors/len(self.Ptv)\n",
    "        \n",
    "        return error_rate\n",
    "            \n",
    "            \n",
    "    \n",
    "    def grid_search(self, lrs, regs):\n",
    "        \"\"\" Given two lists of parameters for learning rate and regularization parameter, perform a grid search using\n",
    "            k-wise cross validation to select the best parameters. \n",
    "            Args:  \n",
    "                lrs (list) : list of potential learning rates\n",
    "                regs (list) : list of potential regularizers\n",
    "            Output: \n",
    "                (lr, reg) : 2-tuple of the best found parameters\n",
    "        \"\"\"\n",
    "        self.err_rates = {(lr,reg):self.cross_validation(lr,reg) for lr in lrs for reg in regs}\n",
    "\n",
    "        min_lr_reg = min(self.err_rates, key=self.err_rates.get)\n",
    "        return min_lr_reg\n",
    "    \n",
    "    def test(self, lr, reg):\n",
    "        \"\"\" Given parameters, calculate the error rate of the test data given the rest of the data. \n",
    "            Args: \n",
    "                lr (float) : learning rate\n",
    "                reg (float) : regularizer parameter\n",
    "            Output: \n",
    "                (err, svm) : tuple of the error rate of the SVM on the test data and the learned model\n",
    "        \"\"\"\n",
    "        # classification error rate\n",
    "        def getErrors(diff):\n",
    "            if int(diff) == 0:\n",
    "                return 0.0\n",
    "            else:\n",
    "                return 1.0\n",
    "        vgetErrors = np.vectorize(getErrors)\n",
    "        \n",
    "        # which model do we use for prediction? model trained on all train/valid data?\n",
    "        all_train_valid = []\n",
    "        for kblock in self.blocks:\n",
    "            all_train_valid.extend(kblock)\n",
    "\n",
    "        svm = SVM(self.X[all_train_valid],self.y[all_train_valid], reg)\n",
    "        svm.train(niters=self.niters, learning_rate=lr, verbose=False)\n",
    "        pred = svm.predict(self.X[self.test_block])\n",
    "        truth = self.y[self.test_block]\n",
    "        error_arr = vgetErrors(truth - pred)\n",
    "        errors = sum(error_arr)\n",
    "        error_rate = 1.0*errors/len(self.test_block)\n",
    "        \n",
    "        return (error_rate, svm)\n",
    "    \n",
    "# AUTOLAB_IGNORE_START\n",
    "MSemilio = ModelSelector(np.array([[1,2,3],[4,5,6],[7,8,9],[10,11,12],[13,14,15],[16,17,18],[19,20,21]]), np.array([1,0,1,1,0,0]), [0,1,2,3,4,5,6], 6, 100)\n",
    "\n",
    "MSemilio = ModelSelector(np.array([[1,2,3],[4,5,6],[7,8,9],[10,11,12],[13,14,15],[16,17,18],[19,20,21]]), np.array([1,0,1,1,0,0]), [1,3,2,4,5,6], 2, 100)\n",
    "print MSemilio.blocksize\n",
    "print MSemilio.test_block\n",
    "print MSemilio.blocks\n",
    "\n",
    "# AUTOLAB_IGNORE_STOP\n",
    "    "
   ]
  },
  {
   "cell_type": "markdown",
   "metadata": {},
   "source": [
    "## K-fold cross validation\n",
    "How can we evaluate our choice of parameters? One way is to perform k-fold cross validation, which operates as follows \n",
    "\n",
    "1. We split the data into k+1 randomly selected but uniformly sized pieces, and set aside one block for testing\n",
    "2. For each of the remaining k parts, we train the model on k-1 parts and validate our model on the heldout part. \n",
    "3. This gives k results, and the average of these runs gives the final result\n",
    "\n",
    "The idea is that by holding out part of the dataset as validation data, we can train and measure our generalization ability. Note the key fact here: the training does not see the validation data at all, which is why it measures generalization! Randomizing the groups removes bias from ordering (i.e. if these results occurred in chronological order, we don't want to train on only Monday's results to predict on Wednesday's results), and averaging over the groups reduces the variance. \n",
    "\n",
    "In this problem, we will use classification error rate as our result metric (so the fraction of times in which our model returns the wrong answer). Calculating this value via k-fold cross validation gives us a measure of how well our model generalizes to new data (lower error rate is better). \n",
    "\n",
    "### Specification\n",
    "1. Break the examples in k+1 groups as follows: \n",
    "    * break the permutation into blocks of size $\\text{ceil}\\left(\\frac{n}{k+1}\\right)$ (the last block may be shorter than the rest)\n",
    "    * set aside the k+1th group as the testing block, and use the remaining k blocks for cross validation\n",
    "    * use the permutation as indices to select the rows that correspond to that block\n",
    "    * Example: k=2, P=[1,3,2,4,5,6] sets aside [5,6] as the test set, and break the remaining permutation into [[1,3],[2,4]] so the blocks of data for validation are X[[1,3],:] and X[[2,4],:]\n",
    "    * the order of the indices in the blocks should match the order in the original permutation\n",
    "2. For each group k, train the model on all other datapoints, and compute the error rate on the held-out group. \n",
    "3. Return the average error rate over all k folds, along \n",
    "\n",
    "You can try it on the random dataset just to make sure it works, but you won't get anything meaningful. "
   ]
  },
  {
   "cell_type": "code",
   "execution_count": 55,
   "metadata": {
    "collapsed": false
   },
   "outputs": [
    {
     "name": "stdout",
     "output_type": "stream",
     "text": [
      "k=1\t0.0\n",
      "k=2\t0.461538461538\n",
      "k=3\t0.433333333333\n",
      "k=4\t0.4375\n",
      "k=5\t0.454545454545\n",
      "k=6\t0.5\n",
      "k=7\t0.457142857143\n",
      "k=8\t0.457142857143\n",
      "k=9\t0.277777777778\n"
     ]
    }
   ],
   "source": [
    "# AUTOLAB_IGNORE_START\n",
    "\n",
    "np.random.seed(100)\n",
    "y0 = np.random.randint(0,2,40)*2-1\n",
    "X0 = np.random.randint(10,size=(40,10))\n",
    "\n",
    "for k in range(1,10):\n",
    "    MS0 = ModelSelector(X0, y0, range(X0.shape[0]), k, 100)\n",
    "    rslt = str(MS0.cross_validation(0.1, 1e-4))\n",
    "    try:\n",
    "        rslt = str(MS0.cross_validation(0.1, 1e-4))\n",
    "    except:\n",
    "        rslt = \"ERROR\"\n",
    "    print \"k=\"+str(k)+\"\\t\"+rslt\n",
    "# AUTOLAB_IGNORE_STOP"
   ]
  },
  {
   "cell_type": "markdown",
   "metadata": {},
   "source": [
    "Try running this on the tfidf features. Can you achieve the same performance on the validation dataset as you did on the training data set? Remember to use a random permutation (you'll get noticeably different results). "
   ]
  },
  {
   "cell_type": "code",
   "execution_count": 9,
   "metadata": {
    "collapsed": false
   },
   "outputs": [
    {
     "name": "stdout",
     "output_type": "stream",
     "text": [
      "0.0126\n"
     ]
    }
   ],
   "source": [
    "# AUTOLAB_IGNORE_START\n",
    "# MS0 = ...\n",
    "# MS0.cross_validation(...)\n",
    "\n",
    "MS0 = ModelSelector(features, labels, range(features.shape[0]), 5, 100)\n",
    "\n",
    "print MS0.cross_validation(1,1e-4)\n",
    "# AUTOLAB_IGNORE_STOP"
   ]
  },
  {
   "cell_type": "markdown",
   "metadata": {},
   "source": [
    "Our implementation returns results with mean classification error 0.01169 and standard deviation 0.0092 (over 10 different permutations). The parameters we used are k=5 folds for learning rate 1 and regularization 1e-4, when run for 100 iterations. Pretty good!"
   ]
  },
  {
   "cell_type": "markdown",
   "metadata": {},
   "source": [
    "## Grid search\n",
    "Now, we have a means of evaluating our choice of parameters. We can now combine this with a grid search over parameters to determine the best combination. Given two lists of parameters, we compute the classification error using k-fold cross validation for each pair of parameters, and output the parameters that produces the best validation result. \n",
    "\n",
    "### Specification\n",
    "1. Select the pair of hyperparamers that produces the smallest k-fold validation error. \n",
    "2. Train a new model using all the training and validation data\n",
    "3. Report the classification accuracy on the test data"
   ]
  },
  {
   "cell_type": "code",
   "execution_count": 10,
   "metadata": {
    "collapsed": false
   },
   "outputs": [
    {
     "name": "stdout",
     "output_type": "stream",
     "text": [
      "1.0 0.1\n",
      "(0.0235, <__main__.SVM instance at 0x000000000A364FC8>)\n"
     ]
    }
   ],
   "source": [
    "# AUTOLAB_IGNORE_START\n",
    "MS = ModelSelector(features, labels, range(features.shape[0]), 4, 100)\n",
    "lr, reg = MS.grid_search(np.logspace(-1,1,3), np.logspace(-2,1,4))\n",
    "print lr, reg\n",
    "print MS.test(lr,reg)\n",
    "# AUTOLAB IGNORE_STOP"
   ]
  },
  {
   "cell_type": "code",
   "execution_count": null,
   "metadata": {
    "collapsed": false
   },
   "outputs": [],
   "source": []
  },
  {
   "cell_type": "markdown",
   "metadata": {},
   "source": [
    "Again, you can try it on the randomized small example just to make sure your code runs, however it won't produce any sort of meaningful result. On our implementation, performing a grid search on learning rates [0.1, 1, 10] and regularization [0.01, 0.1, 1, 10] with 100 iterations for training results in a final test error rate of 0.0232 and selects a learning rate of 1, and a regularization parameter of 0.1. Our implementation takes about 1 minute and 7 seconds to perform the grid search. "
   ]
  },
  {
   "cell_type": "markdown",
   "metadata": {},
   "source": [
    "## Feature Compression (0pts)\n",
    "While you are able to get decent results using an SVM and basic tf-idf features, there are 2 main problems here:\n",
    "1. The actual dataset is 8x larger than the one that you load at the start\n",
    "2. The number of features is extremely bloated and consumes a lot of space and computing power for a binary classification problem\n",
    "\n",
    "So the above methodology would actually take a lot of time and memory to run on the full dataset. Following the example you did in the text classification notebook, we would need to save the tf-idf matrix for the entire training dataset (which is enormous), and then use that to generate features on new examples. \n",
    "\n",
    "One way to tackle this is to generate fewer, but effective, features. For example, instead of generating full tf_idf features for every single word in every email, we can instead try to focus on keywords that frequently only occur in spam email. This was hinted at in the previous contest, but was not emphasized enough. \n",
    "\n",
    "This problem is not graded if you wish to create different features. "
   ]
  },
  {
   "cell_type": "code",
   "execution_count": 11,
   "metadata": {
    "collapsed": false
   },
   "outputs": [],
   "source": [
    "def find_frequent_indicator_words(docs, y, threshold):\n",
    "    pass\n"
   ]
  },
  {
   "cell_type": "code",
   "execution_count": 12,
   "metadata": {
    "collapsed": false
   },
   "outputs": [
    {
     "ename": "TypeError",
     "evalue": "'NoneType' object is not iterable",
     "output_type": "error",
     "traceback": [
      "\u001b[0;31m---------------------------------------------------------------------------\u001b[0m",
      "\u001b[0;31mTypeError\u001b[0m                                 Traceback (most recent call last)",
      "\u001b[0;32m<ipython-input-12-d41e0c4222b4>\u001b[0m in \u001b[0;36m<module>\u001b[0;34m()\u001b[0m\n\u001b[1;32m      1\u001b[0m \u001b[1;31m# AUTOLAB_IGNORE_START\u001b[0m\u001b[1;33m\u001b[0m\u001b[1;33m\u001b[0m\u001b[0m\n\u001b[0;32m----> 2\u001b[0;31m \u001b[0ms\u001b[0m\u001b[1;33m,\u001b[0m\u001b[0mh\u001b[0m \u001b[1;33m=\u001b[0m \u001b[0mfind_frequent_indicator_words\u001b[0m\u001b[1;33m(\u001b[0m\u001b[0memails\u001b[0m\u001b[1;33m,\u001b[0m \u001b[0mlabels\u001b[0m\u001b[1;33m,\u001b[0m \u001b[1;36m50\u001b[0m\u001b[1;33m)\u001b[0m\u001b[1;33m\u001b[0m\u001b[0m\n\u001b[0m\u001b[1;32m      3\u001b[0m \u001b[1;32mwith\u001b[0m \u001b[0mopen\u001b[0m\u001b[1;33m(\u001b[0m\u001b[1;34m'student_data.pkl'\u001b[0m\u001b[1;33m,\u001b[0m \u001b[1;34m'wb'\u001b[0m\u001b[1;33m)\u001b[0m \u001b[1;32mas\u001b[0m \u001b[0mf\u001b[0m\u001b[1;33m:\u001b[0m\u001b[1;33m\u001b[0m\u001b[0m\n\u001b[1;32m      4\u001b[0m     \u001b[0mpickle\u001b[0m\u001b[1;33m.\u001b[0m\u001b[0mdump\u001b[0m\u001b[1;33m(\u001b[0m\u001b[1;33m(\u001b[0m\u001b[0ms\u001b[0m\u001b[1;33m,\u001b[0m\u001b[0mh\u001b[0m\u001b[1;33m)\u001b[0m\u001b[1;33m,\u001b[0m \u001b[0mf\u001b[0m\u001b[1;33m)\u001b[0m\u001b[1;33m\u001b[0m\u001b[0m\n\u001b[1;32m      5\u001b[0m \u001b[1;31m# AUTOLAB_IGNORE_STOP\u001b[0m\u001b[1;33m\u001b[0m\u001b[1;33m\u001b[0m\u001b[0m\n",
      "\u001b[0;31mTypeError\u001b[0m: 'NoneType' object is not iterable"
     ]
    }
   ],
   "source": [
    "# AUTOLAB_IGNORE_START\n",
    "s,h = find_frequent_indicator_words(emails, labels, 50)\n",
    "with open('student_data.pkl', 'wb') as f:\n",
    "    pickle.dump((s,h), f)\n",
    "# AUTOLAB_IGNORE_STOP"
   ]
  },
  {
   "cell_type": "markdown",
   "metadata": {},
   "source": [
    "Our implementation gets 2422 spam words and 290 ham words. "
   ]
  },
  {
   "cell_type": "markdown",
   "metadata": {},
   "source": [
    "## Efficient Spam Detection (5pts)\n",
    "\n",
    "Your goal here is to get at least 80% accuracy on spam detection in an efficient manner. If you are unsure of what to do, one way is to use the frequent indicator words implemented above and generate 2 features per emails: the number of spam indicator words and the number of ham indicator words for a total of two features. This is a huge dimensionality reduction!\n",
    "\n",
    "Of course, you don't have to do this. As long as you achieve at least 80% accuracy with your features you will receive the base credit for this problem. You are allowed to submit supplemental files. See the Contest section for more details. Make sure these supplemental files make it into your tar file (update the Makefile if you use it). \n",
    "\n",
    "### Grading\n",
    "* 5pts 80% or higher accuracy within the constraints of Autolab"
   ]
  },
  {
   "cell_type": "code",
   "execution_count": null,
   "metadata": {
    "collapsed": false
   },
   "outputs": [],
   "source": [
    "def email2features(emails):\n",
    "    \"\"\" Given a list of emails, create a matrix containing features for each email. \"\"\"\n",
    "    with open('student_data.pkl', 'rb') as f:\n",
    "        data = pickle.load(f)\n",
    "    pass\n"
   ]
  },
  {
   "cell_type": "code",
   "execution_count": null,
   "metadata": {
    "collapsed": false
   },
   "outputs": [],
   "source": [
    "# AUTOLAB_IGNORE_START\n",
    "small_features = email2features(emails)\n",
    "# MS = ModelSelector(...)\n",
    "# lr, reg = MS.grid_search(...)\n",
    "# print lr, reg\n",
    "# err, svm = MS.test(lr,reg)\n",
    "# print err\n",
    "# AUTOLAB_IGNORE_STOP"
   ]
  },
  {
   "cell_type": "markdown",
   "metadata": {},
   "source": [
    "## Contest\n",
    "The contest here is straightforward: get the best accuracy level you can on the held out test dataset. You are allowed many things:\n",
    "1. You can upload a file named 'student_data.pkl' which can be of arbitrary format so long as it meets the Autolab file size submission constraint. You can use this, i.e. to store dictionaries of useful words (but are not limited to just this). \n",
    "2. You can upload a file named 'student_params.pkl' which contains a dictionary of parameters you'd like us to run when training your SVM, i.e. regularization parameter, learning rate, and niters. It should follow the format as shown in the next cell. \n",
    "3. When writing pkl files, make sure you pass the binary flag 'b' when writing the file or Autolab will be unable to read it. \n",
    "4. Add pkl files to your submitted tar file if you want them to be present on autolab. \n",
    "4. In addition to the X1.txt and y1.txt, there are 70k more emails (10k per file) that you can peruse for useful data. These are available on the website as a separate download. You are free to use any or all of them locally to learn your parameters and to determine what data to save. \n",
    "\n",
    "Reiterating: there are **70k more emails** that you can use to build your features on the course website. If you are serious about hitting the top of the leaderboard, go get them! We've only included the first 10k in the handout. "
   ]
  },
  {
   "cell_type": "code",
   "execution_count": null,
   "metadata": {
    "collapsed": false
   },
   "outputs": [],
   "source": [
    "# Example. Remember to add these files to your tar archive\n",
    "# AUTOLAB_IGNORE_START\n",
    "with open('student_data.pkl', 'wb') as f:\n",
    "    pickle.dump((s,h), f)\n",
    "    \n",
    "with open('student_params.pkl', 'wb') as f:\n",
    "    pickle.dump({\n",
    "        \"lr\" : 1.0,\n",
    "        \"reg\" : 1e-4,\n",
    "        \"niters\" : 100\n",
    "    }, f)\n",
    "# AUTOLAB_IGNORE_STOP"
   ]
  },
  {
   "cell_type": "code",
   "execution_count": null,
   "metadata": {
    "collapsed": false
   },
   "outputs": [],
   "source": []
  },
  {
   "cell_type": "code",
   "execution_count": null,
   "metadata": {
    "collapsed": false
   },
   "outputs": [],
   "source": []
  },
  {
   "cell_type": "code",
   "execution_count": null,
   "metadata": {
    "collapsed": true
   },
   "outputs": [],
   "source": []
  },
  {
   "cell_type": "code",
   "execution_count": null,
   "metadata": {
    "collapsed": false
   },
   "outputs": [],
   "source": []
  },
  {
   "cell_type": "code",
   "execution_count": null,
   "metadata": {
    "collapsed": true
   },
   "outputs": [],
   "source": []
  }
 ],
 "metadata": {
  "anaconda-cloud": {},
  "kernelspec": {
   "display_name": "Python [conda root]",
   "language": "python",
   "name": "conda-root-py"
  },
  "language_info": {
   "codemirror_mode": {
    "name": "ipython",
    "version": 2
   },
   "file_extension": ".py",
   "mimetype": "text/x-python",
   "name": "python",
   "nbconvert_exporter": "python",
   "pygments_lexer": "ipython2",
   "version": "2.7.12"
  }
 },
 "nbformat": 4,
 "nbformat_minor": 0
}
