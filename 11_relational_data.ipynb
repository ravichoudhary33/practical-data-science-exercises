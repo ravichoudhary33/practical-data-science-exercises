{
 "cells": [
  {
   "cell_type": "code",
   "execution_count": 1,
   "metadata": {
    "collapsed": true
   },
   "outputs": [],
   "source": [
    "import csv\n",
    "import sqlite3\n",
    "import pandas as pd\n",
    "import math\n",
    "# Use svg backend for better quality\n",
    "import matplotlib\n",
    "# AUTOLAB_IGNORE_START\n",
    "matplotlib.use(\"svg\")\n",
    "# AUTOLAB_IGNORE_STOP\n",
    "import matplotlib.pyplot as plt\n",
    "# AUTOLAB_IGNORE_START\n",
    "%matplotlib inline\n",
    "plt.style.use('ggplot')\n",
    "matplotlib.rcParams['figure.figsize'] = (10.0, 5.0) # you should adjust this to fit your screen\n",
    "# AUTOLAB_IGNORE_STOP"
   ]
  },
  {
   "cell_type": "markdown",
   "metadata": {},
   "source": [
    "# Relational Data and Visualization [30pts]\n",
    "In this problem, you will be analyzing the Twitter data we extracted using [this](https://dev.twitter.com/overview/api) api. The data consists of Twitter users (with unique handles) and their attributes (e.g., number of followers), some recent tweets posted by them with attributes (e.g., time stamp, number of retweets), and the follow relationship between the users. These are available in the three CSV files provided to you:\n",
    "- users.csv - users, user attributes\n",
    "- edges.csv - follow edges (directed, an edge from A to B means A follows B or B is a friend of A)\n",
    "- tweets.csv - tweets posted by the users along with its attributes"
   ]
  },
  {
   "cell_type": "markdown",
   "metadata": {},
   "source": [
    "## Q1. Relational Data [5pts + 6pts + 6pts]\n",
    "This question will guide you through loading Twitter data into an in-memory SQLite database and running some basic queries on it."
   ]
  },
  {
   "cell_type": "markdown",
   "metadata": {},
   "source": [
    "### Q1. Task A: Load Twitter data into SQLite database [5pts]\n",
    "Your first task is to use the csv and sqlite3 python packages to load the three csv files we give you as relations (or tables) into an SQLite in-memory database.\n",
    "\n",
    "Loading the data from csv file into the database involves the following steps:\n",
    "1. Identify the schema of the table (for this problem, you will only need TEXT and INTEGER attribute types)\n",
    "2. Create a table with the identified schema\n",
    "3. Load the contents of csv in memory\n",
    "4. Insert every row of csv file as a record in the table\n",
    "\n",
    "You can refer to [sqlite3 documentation](https://docs.python.org/2/library/sqlite3.html) and the class lecture for steps 2 and 4. For step 3, refer to the [csv documentation](https://docs.python.org/2/library/csv.html).\n",
    "\n",
    "Make sure to commit (the equivalent of Ctrl+S for databases) any changes you make to the database. [This](https://www.techopedia.com/definition/16/commit) page should give you an idea about why commit is essential."
   ]
  },
  {
   "cell_type": "code",
   "execution_count": 2,
   "metadata": {
    "collapsed": false
   },
   "outputs": [],
   "source": [
    "def load_twitter_data_sqlite3(conn, users_filepath, edges_filepath, tweets_filepath) :\n",
    "    \"\"\" Load twitter data in the three files as tables into an in-memory SQLite database\n",
    "    Input:\n",
    "        conn (sqlite3.Connection) : Connection object corresponding to the database; used to perform SQL commands.\n",
    "        users_filepath (str) : absolute/relative path to users.csv file\n",
    "        edges_filepath (str) : absolute/relative path to edges.csv file\n",
    "        tweets_filepath (str) : absolute/relative path to tweets.csv file\n",
    "    Output:\n",
    "        None\n",
    "    \"\"\"\n",
    "    users = pd.read_csv(users_filepath)\n",
    "    edges = pd.read_csv(edges_filepath)\n",
    "    tweets = pd.read_csv(tweets_filepath)\n",
    "    users.loc[:,['name','screen_name','location','created_at']] = users.loc[:,['name','screen_name','location','created_at']].fillna(\"\")\n",
    "    tweets.loc[:,['screen_name','created_at','text']] = tweets.loc[:,['screen_name','created_at','text']].fillna(\"\")\n",
    "    \n",
    "#     users['location'] = users['location'].astype(unicode)\n",
    "\n",
    "    conn.text_factory = str\n",
    "    users.to_sql(\"users\", conn, if_exists='replace', index=False)\n",
    "    edges.to_sql(\"edges\", conn, if_exists='replace', index=False)\n",
    "    tweets.to_sql(\"tweets\", conn, if_exists='replace', index=False)\n",
    "    \n",
    "    conn.commit()\n",
    "    cursor = conn.cursor()\n",
    "#     query = \"\"\"separator \",\";\"\"\";\n",
    "#     cursor.execute(query)\n",
    "    \n",
    "#     query = \"import \"+ tweets_filepath +\" tweets;\";\n",
    "#     cursor.execute(query)\n",
    "    \n",
    "    query1 = \"update users set location = null where location = 'None'\";\n",
    "    \n",
    "    cursor.execute(query1)\n",
    "    conn.commit()\n",
    "    \n",
    "    query2 = \"delete from tweets\";\n",
    "    \n",
    "    cursor.execute(query2)\n",
    "    conn.commit()    \n",
    "    \n",
    "    for row in tweets.itertuples():\n",
    "#         p.agent_info = u' '.join((agent_contact, agent_telno)).encode('utf-8').strip()\n",
    "        text = row[5].replace(\"'\",\"''\")\n",
    "        query3 = \"INSERT INTO tweets VALUES('{0}','{1}','{2}','{3}','{4}')\".format(row[1],row[2],row[3],row[4],text);\n",
    "#         print query\n",
    "        cursor.execute(query3)\n",
    "    \n",
    "    conn.commit()\n",
    "    \n"
   ]
  },
  {
   "cell_type": "markdown",
   "metadata": {},
   "source": [
    "Your function will be called as in the cell below. The cell also contains some test code to display all tables in the database. You may want to write you own tests for the individual tables to verify that the data has been loaded properly. (e.g., number of tuples in each table)"
   ]
  },
  {
   "cell_type": "code",
   "execution_count": 3,
   "metadata": {
    "collapsed": false
   },
   "outputs": [
    {
     "name": "stdout",
     "output_type": "stream",
     "text": [
      "('users',)\n",
      "('edges',)\n",
      "('tweets',)\n"
     ]
    }
   ],
   "source": [
    "# AUTOLAB_IGNORE_START\n",
    "# connect to an in memory database\n",
    "conn = sqlite3.connect(\":memory:\")\n",
    "conn.text_factory = str\n",
    "# call to your function\n",
    "load_twitter_data_sqlite3(conn, 'users.csv', 'edges.csv', 'tweets.csv')\n",
    "# make sure to change the path to csv files appropriately\n",
    "cursor = conn.cursor()\n",
    "# prints all tables in the database\n",
    "for row in cursor.execute(\"SELECT name FROM sqlite_master WHERE type = 'table';\"):\n",
    "    print row \n",
    "# for row in cursor.execute(\"SELECT * FROM tweets limit 15;\"):\n",
    "#     print row\n",
    "# df = pd.read_sql_query(\"SELECT * FROM sqlite_master;\", conn)\n",
    "# df2 = pd.read_sql_query(\"SELECT * FROM tweets;\", conn)\n",
    "# print [x for x in df['sql']]\n",
    "# with open('mytweet.csv', 'w') as f:\n",
    "#     f.write(df2.to_csv(index=False))\n",
    "# AUTOLAB_IGNORE_STOP"
   ]
  },
  {
   "cell_type": "markdown",
   "metadata": {},
   "source": [
    "### Q1. Task B: Trending tweets in a topic [6pts]\n",
    "Twitter is regarded as an invaluable source of valuable information. Hence, one of the favorite tasks of data miners is the analyse the trending tweets in a given topic.\n",
    "\n",
    "This task requires you to retrieve the top N most trending tweets (in descending order of trending_score) about a given topic (which is a list of keywords). The following information may be useful:\n",
    "\n",
    "- A tweet is said to be about a given topic if it contains any of the given topical phrases/keywords.\n",
    "- We will use the following simple trending_score: retweet_count + favorite_count. Tweets with higher trending_score must be ranked before the ones with lower trending_score.\n",
    "- Your result must contain unique tweets. If a tweet text occurs multiple times, display it only once with its highest trending_score.\n",
    "- Break ties by sorting the tweets in alphabetical order.\n",
    "\n",
    "The output schema should be as follows:\n",
    "\n",
    "|tweet (TEXT)| trending_score (INTEGER) |\n",
    "| :--- |:--- |\n",
    "| | |"
   ]
  },
  {
   "cell_type": "code",
   "execution_count": 33,
   "metadata": {
    "collapsed": true
   },
   "outputs": [],
   "source": [
    "def trending_tweets(cursor, topical_phrases=['Hillary', 'Clinton'], N=5):\n",
    "    \"\"\" Retrieves the top N trending tweets containing one or more of the given topical phrases.\n",
    "    Input:\n",
    "        cursor (sqlite3.Cursor): Cursor object to query the database.\n",
    "        topical_phrases (list of strings): A list of keywords identifying a topic.\n",
    "        N: Number of trending tweets to retrieve\n",
    "    Output:\n",
    "        results (sqlite3.Cursor): Cursor object which can be used to iterate over the retrieved records/tuples.\n",
    "    \"\"\"\n",
    "    if topical_phrases:\n",
    "        where = \" WHERE \"\n",
    "        i = 0\n",
    "        for phrase in topical_phrases:\n",
    "            if i>0:\n",
    "                where += \" OR \"\n",
    "            where += \" text LIKE '%\"+ phrase + \"%'\"\n",
    "            i+=1\n",
    "    else:\n",
    "        where = \"\"\n",
    "\n",
    "    \n",
    "    query = \"\"\"SELECT\n",
    "    text as tweet,\n",
    "    max(retweet_count + favorite_count) as trending_score      \n",
    "    FROM tweets \"\"\" + where + \"\"\"\n",
    "    GROUP BY text \n",
    "    ORDER BY trending_score DESC, text ASC   \n",
    "    LIMIT %s\"\"\" % (N) # your query here\n",
    "#     print query\n",
    "    results = cursor.execute(query)\n",
    "    conn.commit()\n",
    "    return results"
   ]
  },
  {
   "cell_type": "markdown",
   "metadata": {},
   "source": [
    "The default inputs to the function will retrieve 5 trending tweets about topic Hillary Clinton. You can view the output of your query using the following code."
   ]
  },
  {
   "cell_type": "code",
   "execution_count": 45,
   "metadata": {
    "collapsed": false
   },
   "outputs": [
    {
     "name": "stdout",
     "output_type": "stream",
     "text": [
      "(\"Hillary just gave a disastrous news conference on the tarmac to make up for poor performance last night. She's being decimated by the media!\", 37903)\n",
      "('\"A rough night for Hillary Clinton\"  ABC News.', 34418)\n",
      "('Hillary Clinton answered email questions differently last night than she has in the past. She is totally confused. Unfit to serve as #POTUS.', 32843)\n",
      "(\"'Donald Trump leads Hillary Clinton by 19 points among military, veteran voters: poll' #AmericaFirst #MAGA\\nhttps://t.co/5FmxGtLkwt\", 29538)\n",
      "(\"It wasn't Matt Lauer that hurt Hillary last night. It was her very dumb answer about emails &amp; the veteran who said she should be in jail.\", 24414)\n"
     ]
    }
   ],
   "source": [
    "# AUTOLAB_IGNORE_START\n",
    "results = trending_tweets(conn.cursor())\n",
    "for row in results:\n",
    "    print row\n",
    "# AUTOLAB_IGNORE_STOP"
   ]
  },
  {
   "cell_type": "markdown",
   "metadata": {},
   "source": [
    "### Q1. Task C: Tweet recommendation [6pts]\n",
    "How does Twitter go about populating the feed for a user? While Twitter may use a comple models to do this, in this task, we will use a Simple Tweet Recommender (STR), which recommends a user's tweets to all users who follow him/her (without checking for possible duplicates; i.e., STR may recommend the same tweet twice if two of a user's friends have posted it).\n",
    "\n",
    "In this task, you will write a query to determine the number of tweets recommended to each user. The output schema should be:\n",
    "\n",
    "|screen_name (TEXT)| num_tweets (INTEGER) |\n",
    "| :--- |:--- |\n",
    "| | | |\n"
   ]
  },
  {
   "cell_type": "code",
   "execution_count": 46,
   "metadata": {
    "collapsed": false
   },
   "outputs": [
    {
     "name": "stdout",
     "output_type": "stream",
     "text": [
      "('AAHSAWARD', 0)\n",
      "('AC360', 60)\n",
      "('AMurrayGolf', 0)\n",
      "('AP', 0)\n",
      "('AnnCLauer', 799)\n",
      "('AnnCoulter', 20)\n",
      "('AntonioBrown84', 40)\n",
      "('BleacherReport', 20)\n",
      "('BrendanAMurphy', 197)\n",
      "('CBSSports', 0)\n",
      "('CKGolferChic', 140)\n",
      "('CLewandowski_', 419)\n",
      "('CNNPolitics', 80)\n",
      "('CRTurnberry', 40)\n",
      "('CallawayGolf', 40)\n",
      "('Cmiddaughgolf', 40)\n",
      "('CureCancerNow', 0)\n",
      "('D29Gillian', 140)\n",
      "('DRUDGE_REPORT', 0)\n",
      "('DanScavino', 220)\n",
      "('DiamondandSilk', 240)\n",
      "('DonaldJTrumpJr', 120)\n",
      "('DunningGolf', 40)\n",
      "('EricTrump', 340)\n",
      "('EricTrumpFdn', 340)\n",
      "('ErikCompton3', 60)\n",
      "('ErinAndrews', 40)\n",
      "('Espngreeny', 20)\n",
      "('ExecutivePour', 100)\n",
      "('FortuneMagazine', 0)\n",
      "('FoxBusiness', 100)\n",
      "('FoxNews', 20)\n",
      "('FrankNobiloGC', 40)\n",
      "('GOLFonCBS', 60)\n",
      "('GOPconvention', 0)\n",
      "('GeraldoRivera', 80)\n",
      "('GolfWorld1', 40)\n",
      "('HanksYanksGolf', 80)\n",
      "('HeyItsLindaC', 0)\n",
      "('IngrahamAngle', 120)\n",
      "('IvankaJewelry', 0)\n",
      "('IvankaTrump', 299)\n",
      "('JDayGolf', 80)\n",
      "('JeffreyMoser', 60)\n",
      "('JimMcLeanDoral', 100)\n",
      "('JoeNBC', 60)\n",
      "('JoefromDoonbeg', 376)\n",
      "('Joel_Warren', 160)\n",
      "('KateRuthBrewer', 80)\n",
      "('KatrinaCampins', 100)\n",
      "('KatrinaPierson', 120)\n",
      "('KellyTilghmanGC', 100)\n",
      "('LGlick1', 620)\n",
      "('LINKSMagazine', 40)\n",
      "('LanaDelRey', 0)\n",
      "('Lexi', 80)\n",
      "('MDMOLINARI', 0)\n",
      "('MELANIATRUMP', 160)\n",
      "('MGA1897', 80)\n",
      "('MagicJohnson', 20)\n",
      "('MandieErickson', 20)\n",
      "('MarkBurnettTV', 0)\n",
      "('MattLaDolcetta', 180)\n",
      "('MaxAdlerGD', 100)\n",
      "('MeghanAHardin', 40)\n",
      "('MichaelBreed', 120)\n",
      "('MichaelBreedGA', 200)\n",
      "('MichaelCohen212', 299)\n",
      "('Michael_cMiller', 60)\n",
      "('MikeAdkinsPGA', 40)\n",
      "('MissVanZutphen', 20)\n",
      "('MrsVanessaTrump', 476)\n",
      "('NBCNews', 0)\n",
      "('NBCSports', 40)\n",
      "('NCAA', 0)\n",
      "('Newsweek', 0)\n",
      "('NickFaldo006', 60)\n",
      "('NotahBegay3', 0)\n",
      "('Olympics', 0)\n",
      "('PGAChampionship', 60)\n",
      "('PGATOURmedia', 60)\n",
      "('PGA_JohnDaly', 40)\n",
      "('PaulManafort', 320)\n",
      "('RealRomaDowney', 40)\n",
      "('SIGolfPlus', 60)\n",
      "('SInow', 20)\n",
      "('SMURFpga', 180)\n",
      "('SamiCoCoPuff', 80)\n",
      "('Scottmarr8', 40)\n",
      "('SharkGregNorman', 80)\n",
      "('StacyLewis_KPMG', 80)\n",
      "('Stacy_Lewis', 40)\n",
      "('Swary81', 80)\n",
      "('THE_REAL_LD_89', 20)\n",
      "('TNGCJ', 476)\n",
      "('TeamTrump', 220)\n",
      "('TeenVogue', 0)\n",
      "('TheBig_Easy', 60)\n",
      "('TheEllenShow', 20)\n",
      "('TheMasters', 0)\n",
      "('TheSergioGarcia', 0)\n",
      "('TiffanyATrump', 929)\n",
      "('ToddLewisGC', 20)\n",
      "('TonyDovolani', 0)\n",
      "('TrueLife_Tweets', 0)\n",
      "('Trump', 664)\n",
      "('TrumpBedminster', 180)\n",
      "('TrumpCLTsupt', 60)\n",
      "('TrumpCharlotte', 540)\n",
      "('TrumpChicago', 20)\n",
      "('TrumpColtsNeck', 193)\n",
      "('TrumpDC', 300)\n",
      "('TrumpDoonbeg', 140)\n",
      "('TrumpDoral', 60)\n",
      "('TrumpFerryPoint', 160)\n",
      "('TrumpGolf', 1925)\n",
      "('TrumpGolfDC', 436)\n",
      "('TrumpGolfHV', 616)\n",
      "('TrumpGolfLA', 456)\n",
      "('TrumpGolfPhilly', 88)\n",
      "('TrumpHotels', 80)\n",
      "('TrumpJupiter', 300)\n",
      "('TrumpLasVegas', 180)\n",
      "('TrumpModels', 0)\n",
      "('TrumpNationalNY', 260)\n",
      "('TrumpNewYork', 200)\n",
      "('TrumpPalmBeach', 536)\n",
      "('TrumpPanama', 0)\n",
      "('TrumpRealty', 520)\n",
      "('TrumpScotland', 240)\n",
      "('TrumpSoHo', 20)\n",
      "('TrumpToronto', 40)\n",
      "('TrumpTower', 648)\n",
      "('TrumpTurnberry', 120)\n",
      "('TrumpWaikiki', 60)\n",
      "('VinceMcMahon', 20)\n",
      "('WGC_Bridgestone', 20)\n",
      "('ZuzannaWanda', 20)\n",
      "('andersoncooper', 60)\n",
      "('blueandcream', 20)\n",
      "('briannaehland', 905)\n",
      "('chambleebrandel', 80)\n",
      "('chelseahandler', 80)\n",
      "('daniellenmaples', 40)\n",
      "('ericbolling', 100)\n",
      "('espn', 20)\n",
      "('foxandfriends', 40)\n",
      "('foxnation', 20)\n",
      "('g_matisse', 59)\n",
      "('garyplayer', 40)\n",
      "('gohermie', 199)\n",
      "('greta', 80)\n",
      "('hayamaraka', 20)\n",
      "('horsebalmedie', 0)\n",
      "('ianokearney', 40)\n",
      "('iansomerhalder', 0)\n",
      "('johnrich', 40)\n",
      "('joshspragins', 60)\n",
      "('livelasvegas', 320)\n",
      "('mdamelincourt', 140)\n",
      "('mike_pence', 180)\n",
      "('mjfoxy12', 80)\n",
      "('morningmika', 40)\n",
      "('oakley', 0)\n",
      "('oreillyfactor', 120)\n",
      "('pam226', 20)\n",
      "('parscale', 299)\n",
      "('people', 20)\n",
      "('piersmorgan', 20)\n",
      "('realDonaldTrump', 819)\n",
      "('seanhannity', 100)\n",
      "('tedbishop38pga', 120)\n",
      "('teddymargules', 0)\n",
      "('theycallmeMOSH', 40)\n",
      "('triatthetrump', 120)\n",
      "('trumpwinery', 40)\n",
      "('usopengolf', 0)\n",
      "('wallyball', 0)\n",
      "('worthy1961', 320)\n"
     ]
    }
   ],
   "source": [
    "\n",
    "def num_tweets_in_feed(cursor):\n",
    "    \"\"\" Retrieves the number of tweets STR recommends to each Twitter user.\n",
    "    Input:\n",
    "        cursor (sqlite3.Cursor): Cursor object to query the database.\n",
    "    Output:\n",
    "        results (sqlite3.Cursor): Cursor object which can be used to iterate over the retrieved records/tuples.\n",
    "    \"\"\"\n",
    "    query = \"\"\"SELECT \n",
    "                    u.screen_name,\n",
    "                    sum(CASE WHEN tc.count_tweets IS NULL THEN 0 ELSE tc.count_tweets END) as num_tweets \n",
    "                FROM users as u\n",
    "                INNER JOIN edges as e\n",
    "                    ON u.screen_name = e.screen_name\n",
    "                LEFT JOIN \n",
    "                        (SELECT \n",
    "                            t.screen_name,\n",
    "                            count(t.text) as count_tweets\n",
    "                        FROM tweets as t\n",
    "                        GROUP BY t.screen_name) as tc\n",
    "                        ON e.friend = tc.screen_name\n",
    "                GROUP BY u.screen_name\"\"\" \n",
    "    # your query here\n",
    "    return cursor.execute(query)\n",
    "\n",
    "# AUTOLAB_IGNORE_START\n",
    "results = num_tweets_in_feed(conn.cursor())\n",
    "for row in results:\n",
    "    print row\n",
    "# AUTOLAB_IGNORE_STOP"
   ]
  },
  {
   "cell_type": "markdown",
   "metadata": {},
   "source": [
    "## Q2. Visualization [2pts + 7pts + 4pts]\n",
    "In this question, you will load all data into pandas dataframes and analyse (and visualize!) some interesting trends using [matplotlib](http://matplotlib.org) python package."
   ]
  },
  {
   "cell_type": "markdown",
   "metadata": {},
   "source": [
    "### Q2. Task A: Load Twitter data using pandas [2pts]\n",
    "Fill in the following method stub and return the data frames for users, edges and tweets.\n",
    "\n",
    "Pandas will treat missing values as NaNs by default. However, for this assignment, you should treat missing values (i.e., empty strings in the csv files) as empty strings."
   ]
  },
  {
   "cell_type": "code",
   "execution_count": 7,
   "metadata": {
    "collapsed": true
   },
   "outputs": [],
   "source": [
    "def load_twitter_data_pandas(users_filepath, edges_filepath, tweets_filepath):\n",
    "    \"\"\" Loads the Twitter data from the csv files into Pandas dataframes\n",
    "    Input:\n",
    "        users_filepath (str) : absolute/relative path to users.csv file\n",
    "        edges_filepath (str) : absolute/relative path to edges.csv file\n",
    "        tweets_filepath (str) : absolute/relative path to tweets.csv file\n",
    "    Output:\n",
    "        (pd.DataFrame, pd.DataFrame, pd.DataFrame) : A tuple of three dataframes, the first one for users,\n",
    "                                                    the second for edges and the third for tweets.\n",
    "    \"\"\"\n",
    "    users = pd.read_csv(users_filepath)\n",
    "    edges = pd.read_csv(edges_filepath)\n",
    "    tweets = pd.read_csv(tweets_filepath)\n",
    "    users.loc[:,['name','screen_name','location','created_at']] = users.loc[:,['name','screen_name','location','created_at']].fillna(\"\")\n",
    "    tweets.loc[:,['screen_name','created_at','text']] = tweets.loc[:,['screen_name','created_at','text']].fillna(\"\")\n",
    "    \n",
    "    return (users, edges, tweets)\n",
    "\n"
   ]
  },
  {
   "cell_type": "markdown",
   "metadata": {},
   "source": [
    "You can test your function using the following code."
   ]
  },
  {
   "cell_type": "code",
   "execution_count": 8,
   "metadata": {
    "collapsed": false
   },
   "outputs": [
    {
     "name": "stdout",
     "output_type": "stream",
     "text": [
      "                 name      screen_name      location  \\\n",
      "0     Donald J. Trump  realDonaldTrump  New York, NY   \n",
      "1  Trump Organization            Trump  New York, NY   \n",
      "2          Trump Golf        TrumpGolf                 \n",
      "3       Tiffany Trump    TiffanyATrump                 \n",
      "4      Laura Ingraham    IngrahamAngle            DC   \n",
      "\n",
      "                       created_at  friends_count  followers_count  \\\n",
      "0  Wed Mar 18 13:46:38 +0000 2009             42         11397769   \n",
      "1  Wed Apr 13 16:51:54 +0000 2016             35             9954   \n",
      "2  Mon Feb 03 13:46:03 +0000 2014            200             8797   \n",
      "3  Tue Feb 01 20:59:30 +0000 2011             79            63138   \n",
      "4  Thu Jun 25 21:03:25 +0000 2009            289           851876   \n",
      "\n",
      "   statuses_count  favourites_count  \n",
      "0           33136                38  \n",
      "1              43               125  \n",
      "2             758               251  \n",
      "3             573                28  \n",
      "4           26523                71  \n",
      "       screen_name         friend\n",
      "0  realDonaldTrump          Trump\n",
      "1  realDonaldTrump      TrumpGolf\n",
      "2  realDonaldTrump  TiffanyATrump\n",
      "3  realDonaldTrump  IngrahamAngle\n",
      "4  realDonaldTrump     mike_pence\n",
      "       screen_name                      created_at  retweet_count  \\\n",
      "0  realDonaldTrump  Fri Sep 09 02:00:32 +0000 2016           2859   \n",
      "1  realDonaldTrump  Fri Sep 09 00:39:36 +0000 2016           6463   \n",
      "2  realDonaldTrump  Thu Sep 08 23:56:22 +0000 2016           5405   \n",
      "3  realDonaldTrump  Thu Sep 08 19:52:32 +0000 2016          11633   \n",
      "4  realDonaldTrump  Thu Sep 08 18:17:01 +0000 2016           3824   \n",
      "\n",
      "   favorite_count                                               text  \n",
      "0            7030  Final poll results from NBC on last nights Com...  \n",
      "1           17951  It wasn't Matt Lauer that hurt Hillary last ni...  \n",
      "2           13223  More poll results from last nights Commander-i...  \n",
      "3           27028  Last nights results - in poll taken by NBC. #A...  \n",
      "4           12567  With Luis, Mexico and the United States would ...  \n"
     ]
    }
   ],
   "source": [
    "# AUTOLAB_IGNORE_START\n",
    "(users_df, edges_df, tweets_df) = load_twitter_data_pandas('users.csv', 'edges.csv', 'tweets.csv')\n",
    "# make sure to change the path to csv files appropriately\n",
    "print users_df.head()\n",
    "print edges_df.head()\n",
    "print tweets_df.head()\n",
    "# AUTOLAB_IGNORE_STOP"
   ]
  },
  {
   "cell_type": "markdown",
   "metadata": {},
   "source": [
    "### Q2. Task B: Correlation [4pts + 3pts]\n",
    "Statisticians and data analysts usually like to study about correlation between different observed variables. This helps uncover interesting patterns in the data such as causal relationships (e.g., snow on the road leads to increase in number of accidents). Correlation studies are important for multiple reasons:\n",
    "- While [correlation does not imply causation](https://en.wikipedia.org/wiki/Correlation_does_not_imply_causation), a lack of correlation implies a lack of causation. This can be used to rule out many causal relationships.\n",
    "- Correlation helps with prediction. The more closely related two variables are, the easier it is to predict one from the other.\n",
    "\n",
    "In this task, we ask you to plot the friends_count (on y-axis) vs the followers_count (on x-axis) using the matplotlib package. [Here](http://matplotlib.org/examples/shapes_and_collections/scatter_demo.html) is an example to get started with scatter plots."
   ]
  },
  {
   "cell_type": "code",
   "execution_count": 15,
   "metadata": {
    "collapsed": false
   },
   "outputs": [
    {
     "data": {
      "text/plain": [
       "<matplotlib.collections.PathCollection at 0xb89f4e0>"
      ]
     },
     "execution_count": 15,
     "metadata": {},
     "output_type": "execute_result"
    },
    {
     "data": {
      "image/png": "[encoded data removed]",
      "text/plain": [
       "<matplotlib.figure.Figure at 0xb8197f0>"
      ]
     },
     "metadata": {},
     "output_type": "display_data"
    }
   ],
   "source": [
    "def plot_friends_vs_followers(users_df):\n",
    "    \"\"\" Plots the friends_count (on y-axis) against the followers_count (on x-axis).\n",
    "    Input:\n",
    "        users_df (pd.DataFrame) : Dataframe containing Twitter user attributes,\n",
    "                                    as returned by load_twitter_data_pandas()\n",
    "    Output:\n",
    "        (matplotlib.collections.PathCollection) : The object returned by the scatter plot function\n",
    "    \"\"\"\n",
    "    plt.xlabel(\"followers_count\")\n",
    "    plt.ylabel(\"friends_count\")\n",
    "    scat = plt.scatter(x=users_df[\"followers_count\"], y=users_df[\"friends_count\"])\n",
    "    return scat\n",
    "\n",
    "# AUTOLAB_IGNORE_START\n",
    "plot_friends_vs_followers(users_df)\n",
    "# AUTOLAB_IGNORE_STOP"
   ]
  },
  {
   "cell_type": "markdown",
   "metadata": {},
   "source": [
    "Do you see a correlation between these two variables from your scatter plot? Let's measure this quantitatively using the [Pearson's correlation coefficient](https://en.wikipedia.org/wiki/Pearson_product-moment_correlation_coefficient). \n",
    "\n",
    "For a set of observations $(X,Y) = [(x_1,y_1), (x_2,y_2), ... , (x_n,y_n)]$, the Pearson's correlation coefficient is a measure of the linear dependence between two variables $X$ and $Y$, giving a value between +1 and −1 inclusive, where 1 is total positive correlation, 0 is no correlation, and −1 is total negative correlation.\n",
    "\n",
    "$r=r_{xy}={\\frac {n\\sum x_{i}y_{i}-\\sum x_{i}\\sum y_{i}}{{\\sqrt {n\\sum x_{i}^{2}-(\\sum x_{i})^{2}}}~{\\sqrt {n\\sum y_{i}^{2}-(\\sum y_{i})^{2}}}}}$\n",
    "\n",
    "Now, fill in the following function to compute the Pearson's correlation coefficient between friends_count and followers_count."
   ]
  },
  {
   "cell_type": "code",
   "execution_count": 10,
   "metadata": {
    "collapsed": false
   },
   "outputs": [
    {
     "name": "stdout",
     "output_type": "stream",
     "text": [
      "0.0930864051648\n"
     ]
    }
   ],
   "source": [
    "def correlation_coefficient(users_df):\n",
    "    \"\"\" Plots the friends_count (on y-axis) against the followers_count (on x-axis).\n",
    "    Input:\n",
    "        users_df (pd.DataFrame) : Dataframe containing Twitter user attributes,\n",
    "                                    as returned by load_twitter_data_pandas()\n",
    "    Output:\n",
    "        (double) : correlation coefficient between friends_count and followers_count\n",
    "    \"\"\"\n",
    "    corr = users_df.loc[:,[\"followers_count\",\"friends_count\"]].corr(method='pearson')\n",
    "    corr_final = float(corr.iloc[1,0])\n",
    "    return corr_final\n",
    "\n",
    "# AUTOLAB_IGNORE_START\n",
    "print correlation_coefficient(users_df)\n",
    "# AUTOLAB_IGNORE_STOP"
   ]
  },
  {
   "cell_type": "markdown",
   "metadata": {},
   "source": [
    "### Q2. Task C: Degree distribution [4pts]\n",
    "If you are not familiar with graph theory and/or graph mining, skip the first paragraph.\n",
    "\n",
    "As you're familiar with graphs, you might know that the degree of a node is the number of connections it has to other nodes. A common statistic to look out for in the case of real world graphs is the degree distribution. Literature says degrees of nodes in real world graphs follow a [power law distribution](https://en.wikipedia.org/wiki/Power_law). The implication is that a scatter plot of num_users versus k (as we will define below) yields an almost straight line. In this task, we shall verify whether the given crawl of Twitter network satisfies this property.\n",
    "\n",
    "Let us call the number of friends a Twitter user has as his/her degree. The degree distribution is a histogram of the number of friends. Your task is to visualize this histogram."
   ]
  },
  {
   "cell_type": "code",
   "execution_count": 11,
   "metadata": {
    "collapsed": false
   },
   "outputs": [
    {
     "data": {
      "text/plain": [
       "(array([   2.,    6.,    2.,    5.,    4.,    4.,    3.,    1.,    4.,  148.]),\n",
       " array([   2. ,   11.8,   21.6,   31.4,   41.2,   51. ,   60.8,   70.6,\n",
       "          80.4,   90.2,  100. ]),\n",
       " <a list of 10 Patch objects>)"
      ]
     },
     "execution_count": 11,
     "metadata": {},
     "output_type": "execute_result"
    },
    {
     "data": {
      "image/png": "[encoded data removed]",
      "text/plain": [
       "<matplotlib.figure.Figure at 0x28c42e8>"
      ]
     },
     "metadata": {},
     "output_type": "display_data"
    }
   ],
   "source": [
    "def degree_distribution(edges_df):\n",
    "    \"\"\" Plots the distribution of .\n",
    "    Input:\n",
    "        edges_df (pd.DataFrame) : Dataframe containing Twitter edges,\n",
    "                        as returned by load_twitter_data_pandas()\n",
    "    Output:\n",
    "        (array, array, list of Patch objects) : Tuple of the values of the histogram bins, \n",
    "                        the edges of the bins and the silent list of individual patches used to create the histogram.\n",
    "    \"\"\"\n",
    "    counts_df = edges_df.groupby(\"screen_name\").count()\n",
    "    count_dict = counts_df.to_dict()['friend']\n",
    "    n, bins, patches = plt.hist(count_dict.values())\n",
    "    \n",
    "    return (n, bins, patches)\n",
    "\n",
    "# AUTOLAB_IGNORE_START\n",
    "degree_distribution(edges_df)\n",
    "# AUTOLAB_IGNORE_STOP"
   ]
  },
  {
   "cell_type": "markdown",
   "metadata": {},
   "source": [
    "Do you notice any surprising/unexpected pattern? What can you say about the way in which the Twitter data was collected?"
   ]
  },
  {
   "cell_type": "code",
   "execution_count": null,
   "metadata": {
    "collapsed": false
   },
   "outputs": [],
   "source": []
  },
  {
   "cell_type": "code",
   "execution_count": null,
   "metadata": {
    "collapsed": false
   },
   "outputs": [],
   "source": []
  }
 ],
 "metadata": {
  "anaconda-cloud": {},
  "kernelspec": {
   "display_name": "Python [default]",
   "language": "python",
   "name": "python2"
  },
  "language_info": {
   "codemirror_mode": {
    "name": "ipython",
    "version": 2
   },
   "file_extension": ".py",
   "mimetype": "text/x-python",
   "name": "python",
   "nbconvert_exporter": "python",
   "pygments_lexer": "ipython2",
   "version": "2.7.12"
  }
 },
 "nbformat": 4,
 "nbformat_minor": 0
}
