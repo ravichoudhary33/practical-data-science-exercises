{
 "cells": [
  {
   "cell_type": "markdown",
   "metadata": {},
   "source": [
    "## Introduction\n",
    "\n",
    "In this problem, you're going to write a function that will parse (a simplified version of) XML files into a Python object. Although it's not recommended that you use the parser you construct for anything serious (many excellent Python libraries already exist for parsing XML, such as the lxml library), XML files represent a fairly complex file format, that necessitates using regular expressions and recursion (or a stack) to parse these in a reasonably efficient manner.  So while it's not likely that you will need to write you own XML parser, chances are if/when you _do_ need to write a parser for some format for which there exists no good Python library, the techniques you use here will be useful for writing this parser as well.\n",
    "\n",
    "Scoring for this section: 5pts for test_snippet, 10pts for course website, 20pts for mystery website. At several points we will ask you to comment out some code prior to submission. You can run this code to verify your solutions, however since Autolab instances are isolated from the internet, we need you to comment out all code that attempts to access a network. All locations where this is necessary are marked with [NOTE]. \n",
    "\n",
    "Disclaimer: all example solutions that refer to parsing the course website may not be accurate as we continue to update the website. "
   ]
  },
  {
   "cell_type": "markdown",
   "metadata": {},
   "source": [
    "## XML\n",
    "\n",
    "XML stands for the eXtensible Markup Language.  It appeared as a successor to SGML (standard generalized markup language) and HTML (hypertext markup language, the standard for displaying web pages), but with some additional structure that makes the documents more well-defined; for instance, in HTML it's common for open tags to appears without a corresponding close tag, which is not allowed in pure XML.\n",
    "\n",
    "You may already be familiar with XML, but if not the official resource for learning about the format is here https://www.w3.org/XML/ and a good resource with some concrete examples is here http://www.w3schools.com/xml/.  We'll assume here that you're broadly familiar with the basic ideas behind XML, and just describe what you need to know to complete the parser for this assignment.\n",
    "\n",
    "Here is an example XML document:\n",
    "    \n",
    "    <?xml version=\"1.0\" encoding=\"UTF-8\"?>\n",
    "    <!-- This is a comment -->\n",
    "    <note date=\"8/31/12\">\n",
    "        <to>Tove</to>\n",
    "        <from>Jani</from>\n",
    "        <heading type=\"Reminder\"/>\n",
    "        <body>Don't forget me this weekend!</body>\n",
    "        <!-- This is a multiline comment,\n",
    "             which take a bit of care to parse -->\n",
    "    </note>\n",
    "    \n",
    "There are a few elements here of importance.\n",
    "1. Tags are denoted `<tag_name>content</tag_name>` where `<tag_name>` is the opening tag and `</tag_name>` is the closing tag.  All text (including whitespace) between these tags is the content.\n",
    "2. Attributes follow a tag, and are written as a list of `attr_name=\"attribute_value\"` pairs, where we can use either double quotes or single quotes around the attribute value.  If you use double quotes then a single quote can appear in the text and vice versa.  There can be whitespace around the equals sign or not.\n",
    "3. If a tag has no content `<tag_name attr_name=\"attribute_value\"></tag_name>` can be abbreviated as the open/close tag `<tag_name attr_name=\"attribute_value\"/>`\n",
    "4. A XML prolog is written as `<?tag_name attr_name=\"attribute_value\"?>`.  It has no close tag.  We'll also consider documents that allow for an HTML declaration, such as `<!DOCTYPE html>` (this will let us parse some HTML documents that are well-formed enough to also parse as valid XML).\n",
    "5. Comments are denoted by `<!-- comment_text -->`  and the comment text can span multiple lines.\n"
   ]
  },
  {
   "cell_type": "markdown",
   "metadata": {},
   "source": [
    "## Q1: Regular expression for identifying tags\n",
    "\n",
    "First, we'll use regular expressions to identify tags and other elements of XML files.  Specifically, you'll need to create 6 regular expressions that locate open tags, close tags, open/close tags, comments, xml_prolog, and html declarations.  For the open, close and open/close tags, make sure that your regular expression also matches and returns 1) the tag name, and 2) all the attributes.  Note that in our implementation, we actually have the open tag _also_ match open/close tags, but you are free to do this either way (they can match or not).  Comments may be split across multiple lines, but you can assume that all other tags must occur on a single line (without newlines within the tag itself)."
   ]
  },
  {
   "cell_type": "code",
   "execution_count": 1,
   "metadata": {
    "collapsed": false
   },
   "outputs": [],
   "source": [
    "#### Q1: FILL IN THIS CELL\n",
    "import re\n",
    "tag_open = re.compile(r\"<(\\w+)([^<>]*?)>\",re.DOTALL)\n",
    "tag_close = re.compile(r\"</(\\w+)([^<>]*?)>\",re.DOTALL)\n",
    "tag_open_close = re.compile(r\"<(\\w+)([^<>]*?)/>\",re.DOTALL)\n",
    "# tag_open_close = re.compile(r\"<\\w+[^<>]*?/>\",re.DOTALL)\n",
    "\n",
    "comment = re.compile(r\"<!--(.*?)-->\",re.DOTALL)\n",
    "xml_prolog = re.compile(r\"<\\?([^<>]*?)\\?>\",re.DOTALL)\n",
    "html_prolog = re.compile(r\"<!([^-].*?)>\",re.DOTALL)"
   ]
  },
  {
   "cell_type": "markdown",
   "metadata": {},
   "source": [
    "You can test your code on the following snippet, and on the HTML source of our course web page."
   ]
  },
  {
   "cell_type": "code",
   "execution_count": 2,
   "metadata": {
    "collapsed": false
   },
   "outputs": [],
   "source": [
    "import requests\n",
    "test_snippet = \"\"\"<?xml version=\"1.0\" encoding=\"UTF-8\"?>\n",
    "<!DOCTYPE xml> <!-- not actually valid xml-->\n",
    "<!-- This is a comment -->\n",
    "<note date=\"8/31/12\">\n",
    "    <to>Tove</to>\n",
    "    <from>Jani</from>\n",
    "    <heading type=\"Reminder\"/>\n",
    "    <body>Don't forget me this weekend!</body>\n",
    "    <!-- This is a multiline comment,\n",
    "         which take a bit of care to parse -->\n",
    "</note>\n",
    "\"\"\"\n",
    "\n",
    "# [NOTE] Comment this out prior to submission\n",
    "# course_webpage = requests.get(\"http://www.datasciencecourse.org\").content"
   ]
  },
  {
   "cell_type": "markdown",
   "metadata": {},
   "source": [
    "When you run the cell below, it should produce the following output.  \n",
    "\n",
    "Example output:\n",
    "```python\n",
    "tag_open:  [('note', ' date=\"8/31/12\"'), ('to', ''), ('from', ''), ('heading', ' type=\"Reminder\"/'), ('body', '')]\n",
    "tag_close:  [('to', ''), ('from', ''), ('body', ''), ('note', '')]\n",
    "tag_open_close:  [('heading', ' type=\"Reminder\"')]\n",
    "comment:  [' not actually valid xml', ' This is a comment ', ' This is a multiline comment,\\n         which take a bit of care to parse ']\n",
    "xml_prolog:  ['xml version=\"1.0\" encoding=\"UTF-8\"']\n",
    "html_declaration:  ['DOCTYPE xml']\n",
    "```"
   ]
  },
  {
   "cell_type": "code",
   "execution_count": 3,
   "metadata": {
    "collapsed": false
   },
   "outputs": [
    {
     "name": "stdout",
     "output_type": "stream",
     "text": [
      "tag_open:  [('note', ' date=\"8/31/12\"'), ('to', ''), ('from', ''), ('heading', ' type=\"Reminder\"/'), ('body', '')]\n",
      "tag_close:  [('to', ''), ('from', ''), ('body', ''), ('note', '')]\n",
      "tag_open_close:  [('heading', ' type=\"Reminder\"')]\n",
      "comment:  [' not actually valid xml', ' This is a comment ', ' This is a multiline comment,\\n         which take a bit of care to parse ']\n",
      "xml_prolog:  ['xml version=\"1.0\" encoding=\"UTF-8\"']\n",
      "html_declaration:  ['DOCTYPE xml']\n"
     ]
    }
   ],
   "source": [
    "print \"tag_open: \", tag_open.findall(test_snippet)\n",
    "print \"tag_close: \", tag_close.findall(test_snippet)\n",
    "print \"tag_open_close: \", tag_open_close.findall(test_snippet)\n",
    "print \"comment: \", comment.findall(test_snippet)\n",
    "print \"xml_prolog: \", xml_prolog.findall(test_snippet)\n",
    "# print \"html_declaration: \", html_declaration.findall(test_snippet)\n",
    "print \"html_declaration: \", html_prolog.findall(test_snippet)"
   ]
  },
  {
   "cell_type": "markdown",
   "metadata": {},
   "source": [
    "Similarly, the cell below should produce the following counts. \n",
    "\n",
    "Example output:\n",
    "```python\n",
    "tag_open:  345\n",
    "tag_close:  318\n",
    "tag_open_close:  27\n",
    "comment:  23\n",
    "xml_prolog:  0\n",
    "html_declaration:  2\n",
    "```"
   ]
  },
  {
   "cell_type": "code",
   "execution_count": 4,
   "metadata": {
    "collapsed": false
   },
   "outputs": [],
   "source": [
    "# [NOTE] Comment this out prior to submission\n",
    "# print \"tag_open: \", len(tag_open.findall(course_webpage))\n",
    "# print \"tag_close: \", len(tag_close.findall(course_webpage))\n",
    "# print \"tag_open_close: \", len(tag_open_close.findall(course_webpage))\n",
    "# print \"comment: \", len(comment.findall(course_webpage))\n",
    "# print \"xml_prolog: \", len(xml_prolog.findall(course_webpage))\n",
    "# # print \"html_declaration: \", len(html_declaration.findall(course_webpage))\n",
    "# print \"html_declaration: \", len(html_prolog.findall(course_webpage))\n",
    "\n",
    "# print \"\\n\".join([str(x) for x in tag_open.findall(course_webpage)])"
   ]
  },
  {
   "cell_type": "markdown",
   "metadata": {},
   "source": [
    "(Note that although there is only one html declaration in the course webpage, there is a field _within_ a comment that looks suspiciously like a declaration, so you can pick up both of these)."
   ]
  },
  {
   "cell_type": "markdown",
   "metadata": {},
   "source": [
    "## Q2: XML Parser\n",
    "\n",
    "Using the regular expressions above, now you'll write an XML parser (although technically you don't _have_ to use them, you could try to write a complete XML parser using a single regular extended expression if you really want to, but we would highly advise against this).  Specifically, you should fill in the `__init__` function for the class prototype below."
   ]
  },
  {
   "cell_type": "code",
   "execution_count": 20,
   "metadata": {
    "collapsed": false
   },
   "outputs": [],
   "source": [
    "#### Q2: fill in this cell\n",
    "\n",
    "class XMLNode:\n",
    "    def __init__(self, tag, attributes, raw_content):\n",
    "        \"\"\" Initialize an XML tree with the supplied root tag and attributes,\n",
    "        plus content.\n",
    "        \n",
    "        Args:\n",
    "            - tag (string): string indicating the tag type of this node\n",
    "            - attributes (dictionary): dictionary of\n",
    "            attribute_name/attribute_value pairs\n",
    "            - raw_content (string): all content in the file that comes \n",
    "            _after_ the tag\n",
    "            \n",
    "        Attributes:\n",
    "            - tag (string): a copy of the string indicating the node tag\n",
    "            - attributes (dictionary): a copy of the attributes passed to the \n",
    "            initializer\n",
    "            - content (string): a string that contains the content just within\n",
    "            this tag.  Note that this is _different_ from the \"content\" variable\n",
    "            passed to the content passed to the initializer; that variable has\n",
    "            to contain the content after the tag, but which may go to the end of\n",
    "            the file, while after initializer, the content attribute of the\n",
    "            class must contain _just_ the content within that tag.\n",
    "            - children (list): a list of all child nodes of this XML node, in\n",
    "            the order that they occur in the file.\n",
    "        \"\"\"            \n",
    "        self.tag = tag\n",
    "        self.attributes = attributes\n",
    "        self.content = raw_content\n",
    "        self.children = []\n",
    "        \n",
    "        open_tags = tag_open.findall(raw_content)\n",
    "        open_close_tags = tag_open_close.findall(raw_content)\n",
    "        close_tags = tag_close.findall(raw_content)\n",
    "        \n",
    "        zero_sum_check = len(open_tags) - len(open_close_tags) - len(close_tags)\n",
    "#         print \"zero_sum_check:\", zero_sum_check\n",
    "\n",
    "\n",
    "        # initialize\n",
    "        pos = raw_content.find(\"<\")\n",
    "        carret_re = re.compile(r\"<\")\n",
    "        carrets = carret_re.search(raw_content,pos)\n",
    "        \n",
    "        while carrets:\n",
    "            op = tag_open.match(raw_content, pos)\n",
    "            oc = tag_open_close.match(raw_content, pos)\n",
    "            cl = tag_close.match(raw_content, pos)\n",
    "            cmt = comment.match(raw_content, pos)\n",
    "            xml = xml_prolog.match(raw_content, pos)\n",
    "            html = html_prolog.match(raw_content, pos)\n",
    "\n",
    "            if cmt:\n",
    "                pos = cmt.end()\n",
    "            elif xml:\n",
    "                pos = xml.end()\n",
    "            elif html:\n",
    "                pos = html.end()\n",
    "            elif op:\n",
    "                # attribute dict\n",
    "                child_att_str = op.group(2)\n",
    "                try:\n",
    "                    if oc:\n",
    "                        child_att_str = child_att_str[:-1]\n",
    "#                     child_att_str = child_att_str.strip()\n",
    "#                     child_att_dict = eval(\"{'\" + child_att_str.replace(\" \",\",\").replace(\"=\",\"':\") + \"}\")\n",
    "                    \n",
    "                    child_att_str = child_att_str.strip()\n",
    "\n",
    "                    # remove spaces around =\n",
    "                    child_att_str = re.sub(r\"\\s?=\\s?\",\"=\",child_att_str)\n",
    "\n",
    "                    # place single quotes around attributes\n",
    "                    child_att_str = re.sub(r\"([\\w-]+)(=['\\\"])\",\"'\\g<1>'\\g<2>\",child_att_str)\n",
    "\n",
    "                    # make single quotes around values double quotes\n",
    "                    child_att_str = re.sub(r\"'='(.*?)'\",\"'=\\\"\\g<1>\\\"\",child_att_str)\n",
    "\n",
    "                    # delimit by commas\n",
    "                    child_att_str = re.sub(r\"(=\\\".*?\\\")\\s+('[\\w-]+'=)\",\"\\g<1>,\\g<2>\",child_att_str)\n",
    "                    child_att_str = re.sub(r\"('=\\\".*?\\\")\\s+('[\\w-]+'=)\",\"\\g<1>,\\g<2>\",child_att_str)\n",
    "\n",
    "                    # replace = with :\n",
    "                    child_att_str = re.sub(r\"('[\\w-]+')=(\\\".*?\\\")\",\"\\g<1>:\\g<2>\",child_att_str)\n",
    "\n",
    "                    child_att_dict = eval(\"{\" + child_att_str + \"}\")\n",
    "                except:\n",
    "                    print \"BEGIN ERROR:\", child_att_str,\"END ERROR\"\n",
    "                    child_att_dict={}\n",
    "\n",
    "                # content\n",
    "                if oc:\n",
    "                    child_content = \"\"\n",
    "                    pos = oc.end()\n",
    "                else:\n",
    "                    curr_tags_re = re.compile(r\"</?\"+op.group(1)+\"[^<>]*?>\", re.DOTALL)\n",
    "                    \n",
    "                    curr_tags = [x for x in curr_tags_re.finditer(raw_content,pos)]\n",
    "                    \n",
    "                    balance = -1\n",
    "                    pos = op.end()\n",
    "                    for curr_tag in curr_tags:                        \n",
    "                        if curr_tag.group(0)[1]==\"/\":\n",
    "                            if (balance == 0):\n",
    "                                pos = curr_tag.end()\n",
    "                                break\n",
    "                            else:\n",
    "                                balance -= 1\n",
    "                        else:\n",
    "                            balance += 1\n",
    "#                        print \"Child tag: \",op.group(1)\n",
    "#                        print \"Balance: \",balance\n",
    "#                        print \"Curr_tag: \",curr_tag.group(0)\n",
    "#                        print \"Curr_tag.start(): \",curr_tag.start()\n",
    "#                        print \"pos: \", pos,\"\\n\"\n",
    "#                    print \"Child tag: \",op.group(1)\n",
    "#                    print \"Balance: \",balance\n",
    "#                    print \"Curr_tag: \",curr_tag.group(0)\n",
    "#                    print \"Curr_tag.start(): \",curr_tag.start()\n",
    "#                    print \"pos: \", pos,\"\\n\"\n",
    "                    child_content = raw_content[op.end():pos]\n",
    "                        \n",
    "                # instantiate child\n",
    "#                 print \"\\nCHILD: \", op.group(1),\"\\n-----------------------\\n-----------------------\\n\"\n",
    "                self.children.append(XMLNode(op.group(1), child_att_dict, child_content))\n",
    "#                 print \"open_tag:\", op.group(1), child_content\n",
    "\n",
    "            elif cl:\n",
    "        #         print \"close_tag:\", cl.group(1), open_tags[-1]\n",
    "\n",
    "                if cl.group(1)!=tag:\n",
    "                    raise Exception(\"Error at : <{0}> tag closed with {1}\".format(tag, cl.group()))\n",
    "                else:\n",
    "                    self.content = self.content[:cl.start()]\n",
    "\n",
    "                pos = cl.end()\n",
    "\n",
    "            # see if there are more tags\n",
    "            carrets = carret_re.search(raw_content,pos)\n",
    "            if carrets:\n",
    "                pos = carrets.start()\n",
    "#### Q3: fill out this function and move it into the XMLNode class above. [NOTE] Do not leave this here for your final submission. \n",
    "    \n",
    "    def find_children(self):\n",
    "        \"\"\"\n",
    "        Search for a given tag and atributes anywhere in the XML tree\n",
    "\n",
    "        Args:\n",
    "            tag (string): tag to match\n",
    "            kwargs (dictionary): list of attribute name / attribute value pairs to match\n",
    "\n",
    "        Returns:\n",
    "            (list): a list of XMLNode objects that match from anywhere in the tree\n",
    "        \"\"\"\n",
    "        all_children = [self]\n",
    "        if self.children:\n",
    "            for child in self.children:\n",
    "                all_children.append(child.find_children())\n",
    "                \n",
    "        # begin citation: http://stackoverflow.com/questions/12472338/flattening-a-list-recursively        \n",
    "        def flatten(S):\n",
    "            if S == []:\n",
    "                return S\n",
    "            if isinstance(S[0], list):\n",
    "                return flatten(S[0]) + flatten(S[1:])\n",
    "            return S[:1] + flatten(S[1:])\n",
    "         # end citation: http://stackoverflow.com/questions/12472338/flattening-a-list-recursively     \n",
    "            \n",
    "        all_children = flatten(all_children)\n",
    "        return all_children\n",
    "    \n",
    "    def find(self, tag, **kwargs):\n",
    "        \"\"\"\n",
    "        Search for a given tag and atributes anywhere in the XML tree\n",
    "\n",
    "        Args:\n",
    "            tag (string): tag to match\n",
    "            kwargs (dictionary): list of attribute name / attribute value pairs to match\n",
    "\n",
    "        Returns:\n",
    "            (list): a list of XMLNode objects that match from anywhere in the tree\n",
    "        \"\"\"\n",
    "        all_children = self.find_children()\n",
    "        children_w_tags = []\n",
    "        \n",
    "        att_args = dict(**kwargs)\n",
    "        \n",
    "        for child in all_children:\n",
    "            if child.tag == tag:\n",
    "                if att_args:\n",
    "                    for key in att_args:\n",
    "                        try:\n",
    "                            if child.attributes[key]==att_args[key]:\n",
    "                                children_w_tags.append(child)\n",
    "                        except:\n",
    "                            break\n",
    "                else:\n",
    "                    children_w_tags.append(child)\n",
    "                \n",
    "        return children_w_tags\n",
    "        "
   ]
  },
  {
   "cell_type": "code",
   "execution_count": null,
   "metadata": {
    "collapsed": true
   },
   "outputs": [],
   "source": [
    "with open(\"mystery.txt\") as f:\n",
    "    mystery = f.read()\n",
    "r = XMLNode(\"\", {}, mystery)\n",
    "[l.attributes[\"href\"] for l in r.find(\"a\")]"
   ]
  },
  {
   "cell_type": "markdown",
   "metadata": {
    "collapsed": false
   },
   "source": [
    "There is a lot that this function needs to do, which is best explained by an example.  We'll eventually parse the `test_snippet` above using the command:\n",
    "    \n",
    "    root = XMLNode(\"\", {}, test_snippet)\n",
    "\n",
    "This will create a root node with an empty tag, an empty dictionary for the attributes, and created by parsing the test_snippet; the `content` attribute here will contain the entire test snippet.\n",
    "\n",
    "The `children` attribute is a list that contains a single XMLNode instance, corresponding to the `note` tag.  This instance is created (you don't call this function directly, rather each node must recursively create all its children, so the call above would recursively make the following call to create its child) by calling XMLNode with the parameters\n",
    "\n",
    "    XMLNode(\"note\", {\"date\":\"8/31/12\"}, test_snippet[133:])\n",
    "    # (test_snippet[133:] just happens to be the position that immediately follows the <note> open tag)\n",
    "    \n",
    "This child node will have the given tag and attributes, plus content given by only the `content` equals to the string that occurs _within_ the note open and close tags.  It will similarly have four children, one corresponding to each of the subtags.  The following code illustrates how you can use XMLNode to parse test_snippet, and what the structure is after you perform the parsing.\n",
    "\n",
    "Example output:\n",
    "```python\n",
    "root.tag:  \n",
    "root.attributes:  {}\n",
    "root.content:  '<?xml version=\"1.0\" encoding=\"UTF-8\"?>\\n<!DOCTYPE xml> <!-- not actually valid xml-->\\n<!-- This is a comment -->\\n<note date=\"8/31/12\">\\n    <to>Tove</to>\\n    <from>Jani</from>\\n    <heading type=\"Reminder\"/>\\n    <body>Don\\'t forget me this weekend!</body>\\n    <!-- This is a multiline comment,\\n         which take a bit of care to parse -->\\n</note>\\n'\n",
    "root.children:  [<__main__.XMLNode instance at 0x10425c0e0>]\n",
    "\n",
    "note.tag:  note\n",
    "note.attributes:  {'date': '8/31/12'}\n",
    "note.content:  '\\n    <to>Tove</to>\\n    <from>Jani</from>\\n    <heading type=\"Reminder\"/>\\n    <body>Don\\'t forget me this weekend!</body>\\n    <!-- This is a multiline comment,\\n         which take a bit of care to parse -->\\n'\n",
    "note.children:  [<__main__.XMLNode instance at 0x10425c098>, <__main__.XMLNode instance at 0x10425c128>, <__main__.XMLNode instance at 0x10425c368>, <__main__.XMLNode instance at 0x10425c488>]\n",
    "\n",
    "to.tag:  to\n",
    "to.attributes:  {}\n",
    "to.content:  'Tove'\n",
    "to.children:  []\n",
    "\n",
    "heading.tag:  heading\n",
    "heading.attributes:  {'type': 'Reminder'}\n",
    "heading.content:  ''\n",
    "heading.children:  []\n",
    "```"
   ]
  },
  {
   "cell_type": "code",
   "execution_count": 6,
   "metadata": {
    "collapsed": false
   },
   "outputs": [
    {
     "name": "stdout",
     "output_type": "stream",
     "text": [
      "root.tag:  \n",
      "root.attributes:  {}\n",
      "root.content:  '<?xml version=\"1.0\" encoding=\"UTF-8\"?>\\n<!DOCTYPE xml> <!-- not actually valid xml-->\\n<!-- This is a comment -->\\n<note date=\"8/31/12\">\\n    <to>Tove</to>\\n    <from>Jani</from>\\n    <heading type=\"Reminder\"/>\\n    <body>Don\\'t forget me this weekend!</body>\\n    <!-- This is a multiline comment,\\n         which take a bit of care to parse -->\\n</note>\\n'\n",
      "root.children:  [<__main__.XMLNode instance at 0x0000000003DC3D48>]\n",
      "\n",
      "note.tag:  note\n",
      "note.attributes:  {'date': '8/31/12'}\n",
      "note.content:  '\\n    <to>Tove</to>\\n    <from>Jani</from>\\n    <heading type=\"Reminder\"/>\\n    <body>Don\\'t forget me this weekend!</body>\\n    <!-- This is a multiline comment,\\n         which take a bit of care to parse -->\\n'\n",
      "note.children:  [<__main__.XMLNode instance at 0x0000000003DC3F88>, <__main__.XMLNode instance at 0x000000000399EBC8>, <__main__.XMLNode instance at 0x0000000003D4CF88>, <__main__.XMLNode instance at 0x0000000003DC5808>]\n",
      "\n",
      "to.tag:  to\n",
      "to.attributes:  {}\n",
      "to.content:  'Tove'\n",
      "to.children:  []\n",
      "\n",
      "heading.tag:  heading\n",
      "heading.attributes:  {'type': 'Reminder'}\n",
      "heading.content:  ''\n",
      "heading.children:  []\n"
     ]
    }
   ],
   "source": [
    "root = XMLNode(\"\", {}, test_snippet)\n",
    "\n",
    "print \"root.tag: \", root.tag\n",
    "print \"root.attributes: \", root.attributes\n",
    "print \"root.content: \", repr(root.content)\n",
    "print \"root.children: \", root.children\n",
    "print \"\"\n",
    "print \"note.tag: \", root.children[0].tag\n",
    "print \"note.attributes: \", root.children[0].attributes\n",
    "print \"note.content: \", repr(root.children[0].content)\n",
    "print \"note.children: \", root.children[0].children\n",
    "print \"\"\n",
    "print \"to.tag: \", root.children[0].children[0].tag\n",
    "print \"to.attributes: \", root.children[0].children[0].attributes\n",
    "print \"to.content: \", repr(root.children[0].children[0].content)\n",
    "print \"to.children: \", root.children[0].children[0].children\n",
    "print \"\"\n",
    "print \"heading.tag: \", root.children[0].children[2].tag\n",
    "print \"heading.attributes: \", root.children[0].children[2].attributes\n",
    "print \"heading.content: \", repr(root.children[0].children[2].content)\n",
    "print \"heading.children: \", root.children[0].children[2].children"
   ]
  },
  {
   "cell_type": "markdown",
   "metadata": {},
   "source": [
    "Additionally, if you pass an XML object that is poorly formated, in that there is some mismatched open and close tag, the function should raise an exception. \n",
    "\n",
    "Example output: \n",
    "```python\n",
    "---------------------------------------------------------------------------\n",
    "Exception                                 Traceback (most recent call last)\n",
    "<ipython-input-68-f654067d17d4> in <module>()\n",
    "----> 1 root = XMLNode(\"\", {}, \"<note><to>You</from></note>\")\n",
    "\n",
    "<ipython-input-67-8c4c856beda8> in __init__(self, tag, attributes, content)\n",
    "     37                 else:\n",
    "     38                     # if it's an open tag, parse it recursively\n",
    "---> 39                     self.children.append(XMLNode(m.group(1), attributes, content[m.end():]))\n",
    "     40                     pos = m.end() + self.children[-1].endpos\n",
    "     41                 continue\n",
    "\n",
    "<ipython-input-67-8c4c856beda8> in __init__(self, tag, attributes, content)\n",
    "     37                 else:\n",
    "     38                     # if it's an open tag, parse it recursively\n",
    "---> 39                     self.children.append(XMLNode(m.group(1), attributes, content[m.end():]))\n",
    "     40                     pos = m.end() + self.children[-1].endpos\n",
    "     41                 continue\n",
    "\n",
    "<ipython-input-67-8c4c856beda8> in __init__(self, tag, attributes, content)\n",
    "     45             if m:\n",
    "     46                 if m.group(1) != tag:\n",
    "---> 47                     raise Exception(\"Error: <{0}> tag closed with {1}\".format(tag, m.group()))\n",
    "     48                 else:\n",
    "     49                     self.content = self.content[:m.start()]\n",
    "\n",
    "Exception: Error: <to> tag closed with </from>\n",
    "```"
   ]
  },
  {
   "cell_type": "code",
   "execution_count": 7,
   "metadata": {
    "collapsed": false
   },
   "outputs": [],
   "source": [
    "# [NOTE] Comment this out prior to submission\n",
    "# root = XMLNode(\"\", {}, \"<note><to>You</from></note>\")"
   ]
  },
  {
   "cell_type": "markdown",
   "metadata": {},
   "source": [
    "Finally, your code should also be able to parse the course webpage (which we made sure was valid XML).\n",
    "\n",
    "Example output (the total count may vary slightly based on changes we make to the website): \n",
    "```python\n",
    ">>> print total_count(root)\n",
    "345\n",
    "```"
   ]
  },
  {
   "cell_type": "code",
   "execution_count": 8,
   "metadata": {
    "collapsed": false
   },
   "outputs": [],
   "source": [
    "def total_count(n):\n",
    "    \"\"\" Gets the total number of nodes in an XMLNode tree. \"\"\"\n",
    "    return len(n.children) + sum(total_count(c) for c in n.children)\n",
    "# [NOTE] Comment this out prior to submission\n",
    "# root = XMLNode(\"\", {}, course_webpage)\n",
    "# print total_count(root)"
   ]
  },
  {
   "cell_type": "markdown",
   "metadata": {},
   "source": [
    "Lets discuss in a bit more detail how the XML parsing will work algorithmically.  You being the initializer by copying the provided parameters to the class attributes.  Note that if you want you could make a full string copy here, but we don't bother.  Now we begin parsing the file, which we do by repeating the following logic until termination:\n",
    "1. Look for the next xml tag (or comment, etc), in the file.  This is best done by finding the next `'<'` character.  If you can't find any, return.\n",
    "2. If it's an xml prolog, html declaration, or comment, ignore this portion, and continue parsing after the prolog, declaration, or comment (i.e., throw away whatever information is contained in these portions)\n",
    "3. If it's an open tag, read its tag and attributes (you'll likely want to use a regular expression to parse the attributes as well, but we leave this up to you).  If it's just an open tag, then recursively create an XMLNode object initializer this tag and attributes, and the content that occurred after the open tag.  If it's an open/close tag, create a XMLNode the same as before but with empty content.\n",
    "4. If it's a close tag, make sure that the close tag matches the tag originally provided to the current XMLNode constructor (otherwise, we have a situation where one tag is closed with a different tag), and raise an Exception if not.  If the tags do match, then truncate the content to contain only the content before the closed tag matched, and return.\n",
    "\n",
    "Some hints that we believe will be helpful:\n",
    "1. Keep track of the current position where you are parsing the file, and make sure to properly increment this so you move past any tag that you have parsed.\n",
    "2. Make use of the `match = regular_expression_obj.match(string, pos)` function, which looks for a match to the regular expression starting _exactly_ as position `pos` in `string`.  If this function returns `None`, then the regular expression did not match.  In the returned `match` object, `match.end()` contains the position where the match ended."
   ]
  },
  {
   "cell_type": "markdown",
   "metadata": {},
   "source": [
    "## Q3: Finding searching for tags\n",
    "\n",
    "One of the nicer elements of the `BeautifulSoup` library is the ability to quickly search for tags that have certain attributes, without worrying about the specific structure of the model (i.e., how many levels deep the tag is, how many may exist in the document etc).  We're going to implement a similar function in our `XMLNode` class, specifically a function of the following form."
   ]
  },
  {
   "cell_type": "markdown",
   "metadata": {},
   "source": [
    "For those who haven't seen the `**kwargs` parameter before, this is just a way to pass a variable-length list of parameters to a Python function as function parameters.  For example, you could call `find` via\n",
    "\n",
    "    root.find(\"link\", rel=\"stylesheet\")\n",
    "    \n",
    "and in the `find` function, `kwargs` would be a dictionary equal to `{\"rel\":\"stylesheet\"}`.\n",
    "\n",
    "This function should return a list of _all_ XMLNodes that are descendents (children, children of children, etc), of the node you call it on.  The following constains some examples of this function can be used.\n",
    "\n",
    "Example output: \n",
    "```python\n",
    "['#page-top', '#page-top', '#overview', '#schedule', '#assignments', '#instructors', '#faq', '#overview', 'intro.pdf', 'https://scs.hosted.panopto.com/Panopto/Pages/Viewer.aspx?id=3f116819-0e26-4f79-bcee-f4cb7e745773', 'http://www.zicokolter.com/', 'http://cs.cmu.edu/~ericwong/', 'https://piazza.com/class/is8ghyly8um4ew', 'https://piazza.com/class/is8ghyly8um4ew']\n",
    "['8/29', '8/31', '9/7', '9/14', '9/19', '9/21', '9/26', '9/28', '10/3', '10/5', '10/10', '10/12', '10/17', '10/19', '10/24', '10/26', '10/31', '11/2', '11/7', '11/9', '11/14', '11/16', '11/21', '11/28', '11/30', '12/5', '12/7']\n",
    "```"
   ]
  },
  {
   "cell_type": "code",
   "execution_count": 9,
   "metadata": {
    "collapsed": false
   },
   "outputs": [],
   "source": [
    "# # [NOTE] Comment this out prior to submission\n",
    "# #\n",
    "# # Get a list of all links on the page\n",
    "# links = root.find(\"a\")\n",
    "# print[l.attributes[\"href\"] for l in links]\n",
    "# #\n",
    "# # Get a list of all lecture dates for the course\n",
    "# tbody = root.find(\"section\", id=\"schedule\")[0].find(\"table\")[0].find(\"tbody\")[0]\n",
    "# print [a.find(\"td\")[0].content for a in tbody.find(\"tr\") if len(a.find(\"td\")) > 1]"
   ]
  }
 ],
 "metadata": {
  "anaconda-cloud": {},
  "kernelspec": {
   "display_name": "Python 2",
   "language": "python",
   "name": "python2"
  },
  "language_info": {
   "codemirror_mode": {
    "name": "ipython",
    "version": 2
   },
   "file_extension": ".py",
   "mimetype": "text/x-python",
   "name": "python",
   "nbconvert_exporter": "python",
   "pygments_lexer": "ipython2",
   "version": "2.7.11"
  }
 },
 "nbformat": 4,
 "nbformat_minor": 0
}
